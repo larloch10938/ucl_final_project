{
 "cells": [
  {
   "cell_type": "code",
   "execution_count": 16,
   "metadata": {},
   "outputs": [],
   "source": [
    "import pandas as pd\n",
    "import numpy as np\n",
    "import random\n",
    "import gym\n",
    "from gym.spaces import Discrete, Box, Dict"
   ]
  },
  {
   "cell_type": "code",
   "execution_count": 49,
   "metadata": {},
   "outputs": [
    {
     "name": "stdout",
     "output_type": "stream",
     "text": [
      "The observation space: Dict(age:Discrete(95), obs_wealth:Discrete(1000))\n",
      "The action space: Dict(consumption:Discrete(200), equity_allocation:Discrete(101))\n"
     ]
    }
   ],
   "source": [
    "class LifecycleEnv(gym.Env):\n",
    "    def __init__(self):\n",
    "        # Here we define the choices on consumption and equity allocation\n",
    "        self.action_space = Dict({\"equity_allocation\": Discrete(101),\n",
    "                                  \"consumption\": Discrete(200)})\n",
    "        # Set starting variables\n",
    "        self.wealth = 0\n",
    "        self.income = 100\n",
    "        self.age = 20\n",
    "        self.retirement_age = 70\n",
    "        self.terminal_age = 115\n",
    "        # Here we create our observation space\n",
    "        self.observation_space = Dict({\"age\": Discrete(self.terminal_age - self.age),\n",
    "                                       \"obs_wealth\": Discrete(1000)})\n",
    "\n",
    "    def step(self, action):\n",
    "        # Income reduces when you retire\n",
    "        if self.age > self.retirement_age:\n",
    "            self.income = 0\n",
    "        # define market returns\n",
    "        risk_return = 0.05\n",
    "        risk_free_return = 0.02\n",
    "        # tranformation\n",
    "        print(action)\n",
    "        action_equity_allocation = action[\"equity_allocation\"] / 100\n",
    "        # Apply action\n",
    "        portfolio_return = risk_return * \\\n",
    "            action_equity_allocation + risk_free_return * \\\n",
    "            (1 - action_equity_allocation)\n",
    "        self.wealth = (1 + portfolio_return) * (self.wealth -\n",
    "                                                action[\"consumption\"]) + self.income\n",
    "        reward = action[\"consumption\"]\n",
    "        # force wealth to be in grid - need to work on this\n",
    "        self.wealth = int(self.wealth)\n",
    "        # Time passes (philosophical consideration here)\n",
    "        self.age += 1\n",
    "        # Complete step if agent is older than terminal age\n",
    "        if self.age > self.terminal_age:\n",
    "            done = True\n",
    "        else:\n",
    "            done = False\n",
    "        # Placeholder for info\n",
    "        info = {\"age\": self.age, \"wealth\": self.wealth, \"consumption\": action[\"consumption\"], \"equity_allocation\": action_equity_allocation}\n",
    "        state = {\"age\": self.age, \"wealth\": self.wealth}\n",
    "        return state, reward, done, info\n",
    "\n",
    "    def render(self, mode='human'):\n",
    "        # no urgent need for this\n",
    "        pass\n",
    "\n",
    "    def reset(self):\n",
    "        # Resetting age and wealth\n",
    "        self.wealth = 0\n",
    "        self.age = 20\n",
    "        self.income = 10000\n",
    "        state = {\"age\": self.age, \"wealth\": self.wealth}\n",
    "        return state\n",
    "\n",
    "\n",
    "env = LifecycleEnv()\n",
    "# Observation and action space\n",
    "print(\"The observation space: {}\".format(env.observation_space))\n",
    "print(\"The action space: {}\".format(env.action_space))\n"
   ]
  },
  {
   "cell_type": "code",
   "execution_count": 50,
   "metadata": {},
   "outputs": [
    {
     "name": "stdout",
     "output_type": "stream",
     "text": [
      "0\n"
     ]
    },
    {
     "ename": "IndexError",
     "evalue": "invalid index to scalar variable.",
     "output_type": "error",
     "traceback": [
      "\u001b[1;31m---------------------------------------------------------------------------\u001b[0m",
      "\u001b[1;31mIndexError\u001b[0m                                Traceback (most recent call last)",
      "\u001b[1;32m~\\AppData\\Local\\Temp/ipykernel_36872/3823213595.py\u001b[0m in \u001b[0;36m<module>\u001b[1;34m\u001b[0m\n\u001b[0;32m     21\u001b[0m \u001b[1;33m\u001b[0m\u001b[0m\n\u001b[0;32m     22\u001b[0m     \u001b[1;31m# apply the action\u001b[0m\u001b[1;33m\u001b[0m\u001b[1;33m\u001b[0m\u001b[0m\n\u001b[1;32m---> 23\u001b[1;33m     \u001b[0mnext_state\u001b[0m\u001b[1;33m,\u001b[0m \u001b[0mreward\u001b[0m\u001b[1;33m,\u001b[0m \u001b[0mdone\u001b[0m\u001b[1;33m,\u001b[0m \u001b[0minfo\u001b[0m \u001b[1;33m=\u001b[0m \u001b[0menv\u001b[0m\u001b[1;33m.\u001b[0m\u001b[0mstep\u001b[0m\u001b[1;33m(\u001b[0m\u001b[0maction\u001b[0m\u001b[1;33m)\u001b[0m\u001b[1;33m\u001b[0m\u001b[1;33m\u001b[0m\u001b[0m\n\u001b[0m\u001b[0;32m     24\u001b[0m \u001b[1;33m\u001b[0m\u001b[0m\n\u001b[0;32m     25\u001b[0m     \u001b[1;31m# Render the env\u001b[0m\u001b[1;33m\u001b[0m\u001b[1;33m\u001b[0m\u001b[0m\n",
      "\u001b[1;32m~\\AppData\\Local\\Temp/ipykernel_36872/2401360826.py\u001b[0m in \u001b[0;36mstep\u001b[1;34m(self, action)\u001b[0m\n\u001b[0;32m     23\u001b[0m         \u001b[1;31m# tranformation\u001b[0m\u001b[1;33m\u001b[0m\u001b[1;33m\u001b[0m\u001b[0m\n\u001b[0;32m     24\u001b[0m         \u001b[0mprint\u001b[0m\u001b[1;33m(\u001b[0m\u001b[0maction\u001b[0m\u001b[1;33m)\u001b[0m\u001b[1;33m\u001b[0m\u001b[1;33m\u001b[0m\u001b[0m\n\u001b[1;32m---> 25\u001b[1;33m         \u001b[0maction_equity_allocation\u001b[0m \u001b[1;33m=\u001b[0m \u001b[0maction\u001b[0m\u001b[1;33m[\u001b[0m\u001b[1;34m\"equity_allocation\"\u001b[0m\u001b[1;33m]\u001b[0m \u001b[1;33m/\u001b[0m \u001b[1;36m100\u001b[0m\u001b[1;33m\u001b[0m\u001b[1;33m\u001b[0m\u001b[0m\n\u001b[0m\u001b[0;32m     26\u001b[0m         \u001b[1;31m# Apply action\u001b[0m\u001b[1;33m\u001b[0m\u001b[1;33m\u001b[0m\u001b[0m\n\u001b[0;32m     27\u001b[0m         \u001b[0mportfolio_return\u001b[0m \u001b[1;33m=\u001b[0m \u001b[0mrisk_return\u001b[0m \u001b[1;33m*\u001b[0m\u001b[0;31m \u001b[0m\u001b[0;31m\\\u001b[0m\u001b[1;33m\u001b[0m\u001b[1;33m\u001b[0m\u001b[0m\n",
      "\u001b[1;31mIndexError\u001b[0m: invalid index to scalar variable."
     ]
    }
   ],
   "source": [
    "# Hyperparameters\n",
    "num_steps = 95\n",
    "epsilon = 0.1\n",
    "alpha = 0.1\n",
    "gamma = 0.6\n",
    "\n",
    "# env setup\n",
    "state = env.reset()\n",
    "info_df = pd.DataFrame(\n",
    "    columns=(\"age\", \"wealth\", \"consumption\", \"equity_allocation\"))\n",
    "q_table = np.zeros([env.observation_space[\"age\"].n * env.observation_space[\"obs_wealth\"].n,\n",
    "                    env.action_space[\"equity_allocation\"].n * env.action_space[\"consumption\"].n])\n",
    "\n",
    "for step in range(num_steps):\n",
    "    # take random action, but you can also do something more intelligent\n",
    "    # action = my_intelligent_agent_fn(obs)\n",
    "    if random.uniform(0, 1) < epsilon:\n",
    "        action = env.action_space.sample()  # Explore action space\n",
    "    else:\n",
    "        action = np.argmax(q_table[state[\"age\"] * state[\"wealth\"]])  # Exploit learned values\n",
    "\n",
    "    # apply the action\n",
    "    next_state, reward, done, info = env.step(action)\n",
    "\n",
    "    # Render the env\n",
    "    info_df = info_df.append(info, ignore_index=True)\n",
    "\n",
    "    old_value = q_table[state[\"age\"] * state[\"wealth\"], action[\"equity_allocation\"] * action[\"consumption\"]]\n",
    "    next_max = np.max(q_table[next_state[\"age\"] * next_state[\"wealth\"]])\n",
    "    new_value = (1 - alpha) * old_value + alpha * (reward + gamma * next_max)\n",
    "    q_table[state[\"age\"] * state[\"wealth\"], action[\"equity_allocation\"] * action[\"consumption\"]] = new_value\n",
    "\n",
    "    # If the episode is up, then start another one\n",
    "    if done:\n",
    "        info_df = pd.DataFrame(\n",
    "            columns=(\"age\", \"wealth\", \"consumption\", \"equity_allocation\"))\n",
    "        env.reset()\n",
    "\n",
    "print(info_df.set_index(\"age\"))\n",
    "info_df.set_index(\"age\").plot(secondary_y=[\"equity_allocation\"])\n",
    "\n",
    "# Close the env\n",
    "env.close()\n"
   ]
  },
  {
   "cell_type": "code",
   "execution_count": null,
   "metadata": {},
   "outputs": [],
   "source": []
  }
 ],
 "metadata": {
  "interpreter": {
   "hash": "a9d761df76cea27127357d9fe636061ed99d1680c3f678c82d6e60cb9fc9c667"
  },
  "kernelspec": {
   "display_name": "Python 3.10.2 64-bit",
   "language": "python",
   "name": "python3"
  },
  "language_info": {
   "codemirror_mode": {
    "name": "ipython",
    "version": 3
   },
   "file_extension": ".py",
   "mimetype": "text/x-python",
   "name": "python",
   "nbconvert_exporter": "python",
   "pygments_lexer": "ipython3",
   "version": "3.9.7"
  },
  "orig_nbformat": 4
 },
 "nbformat": 4,
 "nbformat_minor": 2
}
