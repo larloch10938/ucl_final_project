{
 "cells": [
  {
   "cell_type": "code",
   "execution_count": 1,
   "metadata": {},
   "outputs": [],
   "source": [
    "import pandas as pd\n",
    "import numpy as np\n",
    "import random\n",
    "\n",
    "import gym\n",
    "from gym.spaces import Discrete, Box, Dict\n",
    "\n",
    "from collections import OrderedDict\n",
    "\n",
    "import matplotlib.pyplot as plt\n",
    "import seaborn as sns\n",
    "\n",
    "from sklearn.linear_model import SGDRegressor"
   ]
  },
  {
   "cell_type": "code",
   "execution_count": 2,
   "metadata": {},
   "outputs": [],
   "source": [
    "class Estimator():\n",
    "    \"\"\"\n",
    "    Value Function approximator\n",
    "    \"\"\"\n",
    "    \n",
    "    def __init__(self):\n",
    "        # We create a separate model for each action in the environment's\n",
    "        # action space. Alternatively we could somehow encode the action\n",
    "        # into the features, but this way it's easier to code up.\n",
    "        self.models = []\n",
    "        for _ in range(env.action_space[\"consumption\"].n):\n",
    "            model = SGDRegressor(learning_rate=\"constant\")\n",
    "            # We need to call partial_fit once to initialize the model\n",
    "            # or we get a NotFittedError when trying to make a prediction\n",
    "            # This is quite hacky.\n",
    "            model.partial_fit([np.array(list(env.reset().get(\"wealth_bucket\")))], [0])\n",
    "            self.models.append(model)\n",
    "    \n",
    "    def predict(self, s, a=None):\n",
    "        \"\"\"\n",
    "        Makes value function predictions.\n",
    "        \n",
    "        Args:\n",
    "            s: state to make a prediction for\n",
    "            a: (Optional) action to make a prediction for\n",
    "            \n",
    "        Returns\n",
    "            If an action a is given this returns a single number as the prediction.\n",
    "            If no action is given this returns a vector or predictions for all actions\n",
    "            in the environment where pred[i] is the prediction for action i.\n",
    "            \n",
    "        \"\"\"\n",
    "        if not a:\n",
    "            return np.array([m.predict([s])[0] for m in self.models])\n",
    "        else:\n",
    "            return self.models[a].predict([s])[0]\n",
    "    \n",
    "    def update(self, s, a, y):\n",
    "        \"\"\"\n",
    "        Updates the estimator parameters for a given state and action towards\n",
    "        the target y.\n",
    "        \"\"\"\n",
    "        self.models[a].partial_fit([s], [y])"
   ]
  },
  {
   "cell_type": "markdown",
   "metadata": {},
   "source": [
    "https://github.com/dennybritz/reinforcement-learning/blob/master/FA/Q-Learning%20with%20Value%20Function%20Approximation%20Solution.ipynb"
   ]
  },
  {
   "cell_type": "code",
   "execution_count": 3,
   "metadata": {},
   "outputs": [
    {
     "name": "stdout",
     "output_type": "stream",
     "text": [
      "The observation space: Dict(age:Discrete(97), wealth_bucket:Discrete(500))\n",
      "The action space: Dict(consumption:Discrete(190), equity_allocation:Discrete(6))\n"
     ]
    }
   ],
   "source": [
    "class LifecycleEnv(gym.Env):\n",
    "    def __init__(self):\n",
    "        # Here we define the choices on consumption and equity allocation\n",
    "        self.action_space = Dict({\"equity_allocation\": Discrete(6),\n",
    "                                  \"consumption\": Discrete(190)})\n",
    "        # Set starting variables\n",
    "        self.wealth = 100\n",
    "        self.starting_income = 100\n",
    "        self.income = self.starting_income\n",
    "        self.starting_age = 19\n",
    "        self.age = self.starting_age\n",
    "        self.retirement_age = 65\n",
    "        self.terminal_age = 115\n",
    "        self.max_wealth = 10000\n",
    "        self.wealth_buckets = 500\n",
    "        # Here we create our observation space\n",
    "        self.observation_space = Dict({\"age\": Discrete(self.terminal_age - self.starting_age + 1), \"wealth_bucket\": Discrete(self.wealth_buckets)})\n",
    "\n",
    "    def step(self, action):\n",
    "        reward = 0\n",
    "        # Income reduces when you retire\n",
    "        if self.age >= self.retirement_age:\n",
    "            # reward += self.age * 10\n",
    "            self.income = 0\n",
    "        # define market returns\n",
    "        risk_return = 0.05\n",
    "        risk_free_return = 0.01\n",
    "        # transformation\n",
    "        # print(action)\n",
    "        action_equity_allocation = action[\"equity_allocation\"] / 5\n",
    "        action_consumption = action[\"consumption\"] + 10\n",
    "        # Apply action\n",
    "        # print(action_equity_allocation)\n",
    "        portfolio_return = (risk_return * \\\n",
    "            action_equity_allocation) + (risk_free_return * \\\n",
    "            (1 - action_equity_allocation))\n",
    "        start_wealth = self.wealth\n",
    "        # Here income is added only after the portfolio return\n",
    "        self.wealth = (1 + portfolio_return) * (self.wealth -\n",
    "                                                action_consumption) + self.income\n",
    "        # force wealth to be in grid - need to work on this\n",
    "        if self.wealth > self.max_wealth:\n",
    "            reward += (self.wealth - self.max_wealth) / 100\n",
    "            self.wealth = self.max_wealth\n",
    "        if self.wealth < 0:\n",
    "            self.wealth = 0\n",
    "            reward += -10000\n",
    "            done = True\n",
    "        reward += action_consumption\n",
    "        # Complete step if agent is older than terminal age\n",
    "        if self.age == self.terminal_age:\n",
    "            done = True\n",
    "            reward = 0\n",
    "        else:\n",
    "            done = False\n",
    "        # Time passes (philosophical consideration here)\n",
    "        self.age += 1\n",
    "        # Placeholder for info\n",
    "        info = {\"age\": self.age, \"start_wealth\": start_wealth, \"wealth\": self.wealth, \n",
    "                \"consumption\": action_consumption, \"equity_allocation\": action_equity_allocation, \"port_return\": portfolio_return}\n",
    "        state = {\"age\": self.age, \"wealth_bucket\": int(self.wealth/(self.max_wealth + 1) * self.wealth_buckets)}\n",
    "        return state, reward, done, info\n",
    "\n",
    "    def render(self, mode='human'):\n",
    "        # no urgent need for this\n",
    "        pass\n",
    "\n",
    "    def reset(self):\n",
    "        # Resetting age and wealth\n",
    "        self.wealth = 100\n",
    "        self.age = self.starting_age\n",
    "        self.income = self.starting_income\n",
    "        state = {\"age\": self.age, \"wealth_bucket\": int(self.wealth/self.max_wealth)}\n",
    "        return state\n",
    "\n",
    "\n",
    "env = LifecycleEnv()\n",
    "# Observation and action space\n",
    "print(\"The observation space: {}\".format(env.observation_space))\n",
    "print(\"The action space: {}\".format(env.action_space))\n"
   ]
  },
  {
   "cell_type": "code",
   "execution_count": 4,
   "metadata": {},
   "outputs": [
    {
     "name": "stdout",
     "output_type": "stream",
     "text": [
      "In epoch 10000 the reward is -490155. The current epsilon used is 0.9.\n",
      "In epoch 20000 the reward is -479887. The current epsilon used is 0.82.\n",
      "In epoch 30000 the reward is -479669. The current epsilon used is 0.74.\n",
      "In epoch 40000 the reward is -469564. The current epsilon used is 0.67.\n",
      "In epoch 50000 the reward is -459203. The current epsilon used is 0.61.\n",
      "In epoch 60000 the reward is -449626. The current epsilon used is 0.55.\n",
      "In epoch 70000 the reward is -448792. The current epsilon used is 0.5.\n",
      "In epoch 80000 the reward is -448154. The current epsilon used is 0.45.\n",
      "In epoch 90000 the reward is -428080. The current epsilon used is 0.41.\n",
      "In epoch 100000 the reward is -427514. The current epsilon used is 0.37.\n",
      "In epoch 110000 the reward is -407020. The current epsilon used is 0.33.\n",
      "In epoch 120000 the reward is -426619. The current epsilon used is 0.3.\n",
      "In epoch 130000 the reward is -416897. The current epsilon used is 0.27.\n",
      "In epoch 140000 the reward is -416804. The current epsilon used is 0.25.\n",
      "In epoch 150000 the reward is -436500. The current epsilon used is 0.22.\n",
      "In epoch 160000 the reward is -407039. The current epsilon used is 0.2.\n",
      "In epoch 170000 the reward is -465893. The current epsilon used is 0.18.\n",
      "In epoch 180000 the reward is -407058. The current epsilon used is 0.17.\n",
      "In epoch 190000 the reward is -387466. The current epsilon used is 0.15.\n",
      "In epoch 200000 the reward is -407060. The current epsilon used is 0.14.\n",
      "In epoch 210000 the reward is -377730. The current epsilon used is 0.12.\n",
      "In epoch 220000 the reward is -377679. The current epsilon used is 0.11.\n",
      "In epoch 230000 the reward is -387415. The current epsilon used is 0.1.\n",
      "In epoch 240000 the reward is -416850. The current epsilon used is 0.09.\n",
      "In epoch 250000 the reward is -367728. The current epsilon used is 0.08.\n",
      "In epoch 260000 the reward is -338360. The current epsilon used is 0.07.\n",
      "In epoch 270000 the reward is -387470. The current epsilon used is 0.07.\n",
      "In epoch 280000 the reward is -358086. The current epsilon used is 0.06.\n",
      "In epoch 290000 the reward is -318800. The current epsilon used is 0.06.\n",
      "In epoch 300000 the reward is -328607. The current epsilon used is 0.05.\n",
      "In epoch 310000 the reward is -309060. The current epsilon used is 0.05.\n",
      "In epoch 320000 the reward is -318738. The current epsilon used is 0.04.\n",
      "In epoch 330000 the reward is -348121. The current epsilon used is 0.04.\n",
      "In epoch 340000 the reward is -299251. The current epsilon used is 0.03.\n",
      "In epoch 350000 the reward is -309018. The current epsilon used is 0.03.\n",
      "In epoch 360000 the reward is -269743. The current epsilon used is 0.03.\n",
      "In epoch 370000 the reward is -367680. The current epsilon used is 0.02.\n",
      "In epoch 380000 the reward is -289242. The current epsilon used is 0.02.\n",
      "In epoch 390000 the reward is -308850. The current epsilon used is 0.02.\n",
      "In epoch 400000 the reward is -269742. The current epsilon used is 0.02.\n",
      "In epoch 410000 the reward is -308954. The current epsilon used is 0.02.\n",
      "In epoch 420000 the reward is -250017. The current epsilon used is 0.01.\n",
      "In epoch 430000 the reward is -259949. The current epsilon used is 0.01.\n",
      "In epoch 440000 the reward is -279474. The current epsilon used is 0.01.\n",
      "In epoch 450000 the reward is -220635. The current epsilon used is 0.01.\n",
      "In epoch 460000 the reward is -269652. The current epsilon used is 0.01.\n",
      "In epoch 470000 the reward is -299051. The current epsilon used is 0.01.\n",
      "In epoch 480000 the reward is -269759. The current epsilon used is 0.01.\n",
      "In epoch 490000 the reward is -308994. The current epsilon used is 0.01.\n",
      "In epoch 500000 the reward is -181378. The current epsilon used is 0.01.\n"
     ]
    }
   ],
   "source": [
    "# Hyperparameters\n",
    "minutes = 60\n",
    "epochs =  int(minutes * 25000)\n",
    "num_steps = env.terminal_age - env.starting_age + 1\n",
    "epsilon = 1.0\n",
    "# when using 0.9 the agent would be much worse at learning from negative rewards as it's kind of \"accepting\" them\n",
    "learning_rate = 0.5\n",
    "discount_rate = 0.9\n",
    "decay_rate = 0.00001\n",
    "\n",
    "# env setup\n",
    "state = env.reset()\n",
    "best_action = OrderedDict()\n",
    "# my q table consist of 2 state actions and 2 observation spaces\n",
    "# I need to change one of the observation space variables into a continuos one and use function approximation\n",
    "q_table = np.zeros([env.observation_space[\"age\"].n, env.observation_space[\"wealth_bucket\"].n, \n",
    "    env.action_space[\"equity_allocation\"].n, env.action_space[\"consumption\"].n])\n",
    "\n",
    "for epoch in range(epochs):\n",
    "    state = env.reset()\n",
    "    done = False\n",
    "    if (epoch + 1) % 10000 == 0:\n",
    "        rewards = 0\n",
    "        for step in range(num_steps):\n",
    "            q = q_table[state[\"age\"] - env.starting_age, state[\"wealth_bucket\"]]\n",
    "            best_action['equity_allocation'] = np.unravel_index(np.argmax(q, axis=None), q.shape)[0]\n",
    "            best_action['consumption'] = np.unravel_index(np.argmax(q, axis=None), q.shape)[1]\n",
    "            new_state, reward, done, info = env.step(best_action)\n",
    "            rewards += reward\n",
    "            state = new_state\n",
    "        print(\"In epoch \" + str(epoch+1) + \" the reward is \" + str(rewards) + \". The current epsilon used is \" + str(round(epsilon, 2)) + \".\")\n",
    "        state = env.reset()\n",
    "        done = False\n",
    "\n",
    "    for step in range(num_steps):\n",
    "        # take random action\n",
    "        if random.uniform(0, 1) < epsilon:\n",
    "            action = env.action_space.sample()  # Explore action space\n",
    "        else:\n",
    "            # here I select the best action based on my q table\n",
    "            q = q_table[state[\"age\"] - env.starting_age, state[\"wealth_bucket\"]]\n",
    "            max_q_index = np.unravel_index(np.argmax(q, axis=None), q.shape)\n",
    "            best_action['equity_allocation'] = max_q_index[0]\n",
    "            best_action['consumption'] = max_q_index[1]\n",
    "            action = best_action  # Exploit learned values\n",
    "\n",
    "        # apply the action\n",
    "        next_state, reward, done, info = env.step(action)\n",
    "        if done == True:\n",
    "            break\n",
    "        # Update the q table\n",
    "        # print(q_table.shape)\n",
    "        # print(state[\"wealth_bucket\"])\n",
    "        old_value = q_table[state[\"age\"] - env.starting_age, state[\"wealth_bucket\"], action[\"equity_allocation\"], action[\"consumption\"]]\n",
    "        next_max = np.max(q_table[next_state[\"age\"] - env.starting_age, next_state[\"wealth_bucket\"]])\n",
    "        new_value = (1 - learning_rate) * old_value + learning_rate * (reward + discount_rate * next_max)\n",
    "        q_table[state[\"age\"] - env.starting_age, state[\"wealth_bucket\"], action[\"equity_allocation\"], action[\"consumption\"]] = new_value\n",
    "\n",
    "        # If the episode is up, then start another one\n",
    "        state = next_state\n",
    "    # this is a greedy implementation\n",
    "    epsilon = np.exp(-decay_rate * epoch)\n",
    "    # epsilon = 1 - (epoch / epochs)\n",
    "\n",
    "# Close the env\n",
    "env.close()\n"
   ]
  },
  {
   "cell_type": "code",
   "execution_count": 5,
   "metadata": {},
   "outputs": [
    {
     "name": "stdout",
     "output_type": "stream",
     "text": [
      "-181384\n"
     ]
    }
   ],
   "source": [
    "# watch trained agent\n",
    "state = env.reset()\n",
    "done = False\n",
    "rewards = 0\n",
    "info_df = pd.DataFrame(\n",
    "    columns=(\"age\", \"start_wealth\", \"wealth\", \"consumption\", \"equity_allocation\", \"port_return\"))\n",
    "\n",
    "for step in range(num_steps):\n",
    "    q = q_table[state[\"age\"] - env.starting_age, state[\"wealth_bucket\"]]\n",
    "    max_q_index = np.unravel_index(np.argmax(q, axis=None), q.shape)\n",
    "    best_action['equity_allocation'] = max_q_index[0]\n",
    "    best_action['consumption'] = max_q_index[1]\n",
    "    new_state, reward, done, info = env.step(best_action)\n",
    "    info_df = info_df.append(info, ignore_index=True) \n",
    "    rewards += reward\n",
    "    state = new_state\n",
    "print(rewards)"
   ]
  },
  {
   "cell_type": "code",
   "execution_count": 6,
   "metadata": {},
   "outputs": [
    {
     "data": {
      "text/html": [
       "<div>\n",
       "<style scoped>\n",
       "    .dataframe tbody tr th:only-of-type {\n",
       "        vertical-align: middle;\n",
       "    }\n",
       "\n",
       "    .dataframe tbody tr th {\n",
       "        vertical-align: top;\n",
       "    }\n",
       "\n",
       "    .dataframe thead th {\n",
       "        text-align: right;\n",
       "    }\n",
       "</style>\n",
       "<table border=\"1\" class=\"dataframe\">\n",
       "  <thead>\n",
       "    <tr style=\"text-align: right;\">\n",
       "      <th></th>\n",
       "      <th>age</th>\n",
       "      <th>start_wealth</th>\n",
       "      <th>wealth</th>\n",
       "      <th>consumption</th>\n",
       "      <th>equity_allocation</th>\n",
       "      <th>port_return</th>\n",
       "    </tr>\n",
       "  </thead>\n",
       "  <tbody>\n",
       "    <tr>\n",
       "      <th>0</th>\n",
       "      <td>20.0</td>\n",
       "      <td>100.000000</td>\n",
       "      <td>0.010000</td>\n",
       "      <td>199.0</td>\n",
       "      <td>0.0</td>\n",
       "      <td>0.01</td>\n",
       "    </tr>\n",
       "    <tr>\n",
       "      <th>1</th>\n",
       "      <td>21.0</td>\n",
       "      <td>0.010000</td>\n",
       "      <td>0.020100</td>\n",
       "      <td>99.0</td>\n",
       "      <td>0.0</td>\n",
       "      <td>0.01</td>\n",
       "    </tr>\n",
       "    <tr>\n",
       "      <th>2</th>\n",
       "      <td>22.0</td>\n",
       "      <td>0.020100</td>\n",
       "      <td>0.030301</td>\n",
       "      <td>99.0</td>\n",
       "      <td>0.0</td>\n",
       "      <td>0.01</td>\n",
       "    </tr>\n",
       "    <tr>\n",
       "      <th>3</th>\n",
       "      <td>23.0</td>\n",
       "      <td>0.030301</td>\n",
       "      <td>0.040604</td>\n",
       "      <td>99.0</td>\n",
       "      <td>0.0</td>\n",
       "      <td>0.01</td>\n",
       "    </tr>\n",
       "    <tr>\n",
       "      <th>4</th>\n",
       "      <td>24.0</td>\n",
       "      <td>0.040604</td>\n",
       "      <td>0.051010</td>\n",
       "      <td>99.0</td>\n",
       "      <td>0.0</td>\n",
       "      <td>0.01</td>\n",
       "    </tr>\n",
       "    <tr>\n",
       "      <th>...</th>\n",
       "      <td>...</td>\n",
       "      <td>...</td>\n",
       "      <td>...</td>\n",
       "      <td>...</td>\n",
       "      <td>...</td>\n",
       "      <td>...</td>\n",
       "    </tr>\n",
       "    <tr>\n",
       "      <th>92</th>\n",
       "      <td>112.0</td>\n",
       "      <td>0.000000</td>\n",
       "      <td>0.000000</td>\n",
       "      <td>199.0</td>\n",
       "      <td>0.0</td>\n",
       "      <td>0.01</td>\n",
       "    </tr>\n",
       "    <tr>\n",
       "      <th>93</th>\n",
       "      <td>113.0</td>\n",
       "      <td>0.000000</td>\n",
       "      <td>0.000000</td>\n",
       "      <td>199.0</td>\n",
       "      <td>0.0</td>\n",
       "      <td>0.01</td>\n",
       "    </tr>\n",
       "    <tr>\n",
       "      <th>94</th>\n",
       "      <td>114.0</td>\n",
       "      <td>0.000000</td>\n",
       "      <td>0.000000</td>\n",
       "      <td>199.0</td>\n",
       "      <td>0.0</td>\n",
       "      <td>0.01</td>\n",
       "    </tr>\n",
       "    <tr>\n",
       "      <th>95</th>\n",
       "      <td>115.0</td>\n",
       "      <td>0.000000</td>\n",
       "      <td>0.000000</td>\n",
       "      <td>199.0</td>\n",
       "      <td>0.0</td>\n",
       "      <td>0.01</td>\n",
       "    </tr>\n",
       "    <tr>\n",
       "      <th>96</th>\n",
       "      <td>116.0</td>\n",
       "      <td>0.000000</td>\n",
       "      <td>0.000000</td>\n",
       "      <td>10.0</td>\n",
       "      <td>0.0</td>\n",
       "      <td>0.01</td>\n",
       "    </tr>\n",
       "  </tbody>\n",
       "</table>\n",
       "<p>97 rows × 6 columns</p>\n",
       "</div>"
      ],
      "text/plain": [
       "      age  start_wealth    wealth  consumption  equity_allocation  port_return\n",
       "0    20.0    100.000000  0.010000        199.0                0.0         0.01\n",
       "1    21.0      0.010000  0.020100         99.0                0.0         0.01\n",
       "2    22.0      0.020100  0.030301         99.0                0.0         0.01\n",
       "3    23.0      0.030301  0.040604         99.0                0.0         0.01\n",
       "4    24.0      0.040604  0.051010         99.0                0.0         0.01\n",
       "..    ...           ...       ...          ...                ...          ...\n",
       "92  112.0      0.000000  0.000000        199.0                0.0         0.01\n",
       "93  113.0      0.000000  0.000000        199.0                0.0         0.01\n",
       "94  114.0      0.000000  0.000000        199.0                0.0         0.01\n",
       "95  115.0      0.000000  0.000000        199.0                0.0         0.01\n",
       "96  116.0      0.000000  0.000000         10.0                0.0         0.01\n",
       "\n",
       "[97 rows x 6 columns]"
      ]
     },
     "execution_count": 6,
     "metadata": {},
     "output_type": "execute_result"
    }
   ],
   "source": [
    "info_df"
   ]
  },
  {
   "cell_type": "code",
   "execution_count": 7,
   "metadata": {},
   "outputs": [
    {
     "data": {
      "text/plain": [
       "<AxesSubplot:xlabel='age'>"
      ]
     },
     "execution_count": 7,
     "metadata": {},
     "output_type": "execute_result"
    },
    {
     "data": {
      "image/png": "[encoded data removed]",
      "text/plain": [
       "<Figure size 432x288 with 2 Axes>"
      ]
     },
     "metadata": {
      "needs_background": "light"
     },
     "output_type": "display_data"
    }
   ],
   "source": [
    "# print(info_df.set_index(\"age\"))\n",
    "info_df.set_index(\"age\").plot(secondary_y=[\"equity_allocation\"])"
   ]
  },
  {
   "cell_type": "code",
   "execution_count": 8,
   "metadata": {},
   "outputs": [
    {
     "data": {
      "text/plain": [
       "<AxesSubplot:>"
      ]
     },
     "execution_count": 8,
     "metadata": {},
     "output_type": "execute_result"
    },
    {
     "data": {
      "image/png": "[encoded data removed]",
      "text/plain": [
       "<Figure size 432x288 with 2 Axes>"
      ]
     },
     "metadata": {
      "needs_background": "light"
     },
     "output_type": "display_data"
    }
   ],
   "source": [
    "sns.heatmap(pd.DataFrame(q_table.mean(axis=3).mean(axis=2)).T)"
   ]
  },
  {
   "cell_type": "code",
   "execution_count": 9,
   "metadata": {},
   "outputs": [
    {
     "data": {
      "text/plain": [
       "<AxesSubplot:>"
      ]
     },
     "execution_count": 9,
     "metadata": {},
     "output_type": "execute_result"
    },
    {
     "data": {
      "image/png": "[encoded data removed]",
      "text/plain": [
       "<Figure size 432x288 with 2 Axes>"
      ]
     },
     "metadata": {
      "needs_background": "light"
     },
     "output_type": "display_data"
    }
   ],
   "source": [
    "sns.heatmap(pd.DataFrame(q_table.mean(axis=3).mean(axis=1)).T)"
   ]
  },
  {
   "cell_type": "code",
   "execution_count": 10,
   "metadata": {},
   "outputs": [
    {
     "data": {
      "text/plain": [
       "<AxesSubplot:>"
      ]
     },
     "execution_count": 10,
     "metadata": {},
     "output_type": "execute_result"
    },
    {
     "data": {
      "image/png": "[encoded data removed]",
      "text/plain": [
       "<Figure size 432x288 with 2 Axes>"
      ]
     },
     "metadata": {
      "needs_background": "light"
     },
     "output_type": "display_data"
    }
   ],
   "source": [
    "sns.heatmap(pd.DataFrame(q_table.mean(axis=1).mean(axis=1)).T)"
   ]
  }
 ],
 "metadata": {
  "interpreter": {
   "hash": "e09c12f18a2be602246ce7147d4f07d1d3f1fa24fa5d378fb578b8174ce72dfc"
  },
  "kernelspec": {
   "display_name": "Python 3.9.7 ('base')",
   "language": "python",
   "name": "python3"
  },
  "language_info": {
   "codemirror_mode": {
    "name": "ipython",
    "version": 3
   },
   "file_extension": ".py",
   "mimetype": "text/x-python",
   "name": "python",
   "nbconvert_exporter": "python",
   "pygments_lexer": "ipython3",
   "version": "3.9.7"
  },
  "orig_nbformat": 4
 },
 "nbformat": 4,
 "nbformat_minor": 2
}
