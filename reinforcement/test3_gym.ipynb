{
 "cells": [
  {
   "cell_type": "code",
   "execution_count": 88,
   "metadata": {},
   "outputs": [],
   "source": [
    "import pandas as pd\n",
    "import numpy as np\n",
    "import random\n",
    "\n",
    "import gym\n",
    "from gym.spaces import Discrete, Box, Dict\n",
    "\n",
    "from collections import OrderedDict\n",
    "\n",
    "import matplotlib.pyplot as plt\n",
    "import seaborn as sns\n",
    "\n",
    "from sklearn.linear_model import SGDRegressor"
   ]
  },
  {
   "cell_type": "code",
   "execution_count": 89,
   "metadata": {},
   "outputs": [],
   "source": [
    "class Estimator():\n",
    "    \"\"\"\n",
    "    Value Function approximator\n",
    "    \"\"\"\n",
    "    \n",
    "    def __init__(self):\n",
    "        # We create a separate model for each action in the environment's\n",
    "        # action space. Alternatively we could somehow encode the action\n",
    "        # into the features, but this way it's easier to code up.\n",
    "        self.models = []\n",
    "        for _ in range(env.action_space.n):\n",
    "            model = SGDRegressor(learning_rate=\"constant\")\n",
    "            # We need to call partial_fit once to initialize the model\n",
    "            # or we get a NotFittedError when trying to make a prediction\n",
    "            # This is quite hacky.\n",
    "            model.partial_fit([np.array(list(env.reset().values()))], [0])\n",
    "            self.models.append(model)\n",
    "    \n",
    "    def predict(self, s, a=None):\n",
    "        \"\"\"\n",
    "        Makes value function predictions.\n",
    "        \n",
    "        Args:\n",
    "            s: state to make a prediction for\n",
    "            a: (Optional) action to make a prediction for\n",
    "            \n",
    "        Returns\n",
    "            If an action a is given this returns a single number as the prediction.\n",
    "            If no action is given this returns a vector or predictions for all actions\n",
    "            in the environment where pred[i] is the prediction for action i.\n",
    "            \n",
    "        \"\"\"\n",
    "        if not a:\n",
    "            return np.array([m.predict([s])[0] for m in self.models])\n",
    "        else:\n",
    "            return self.models[a].predict([s])[0]\n",
    "    \n",
    "    def update(self, s, a, y):\n",
    "        \"\"\"\n",
    "        Updates the estimator parameters for a given state and action towards\n",
    "        the target y.\n",
    "        \"\"\"\n",
    "        self.models[a].partial_fit([s], [y])"
   ]
  },
  {
   "cell_type": "markdown",
   "metadata": {},
   "source": [
    "https://github.com/dennybritz/reinforcement-learning/blob/master/FA/Q-Learning%20with%20Value%20Function%20Approximation%20Solution.ipynb"
   ]
  },
  {
   "cell_type": "code",
   "execution_count": 90,
   "metadata": {},
   "outputs": [
    {
     "name": "stdout",
     "output_type": "stream",
     "text": [
      "The observation space: Dict(age:Discrete(6), wealth_bucket:Discrete(50))\n",
      "The action space: Dict(consumption:Discrete(20), equity_allocation:Discrete(6))\n"
     ]
    }
   ],
   "source": [
    "class LifecycleEnv(gym.Env):\n",
    "    def __init__(self):\n",
    "        # Here we define the choices on consumption and equity allocation\n",
    "        self.action_space = Dict({\"equity_allocation\": Discrete(6),\n",
    "                                  \"consumption\": Discrete(20)})\n",
    "        # Set starting variables\n",
    "        self.wealth = 100\n",
    "        self.starting_income = 100\n",
    "        self.income = self.starting_income\n",
    "        self.starting_age = 20\n",
    "        self.age = self.starting_age\n",
    "        self.retirement_age = 21\n",
    "        self.terminal_age = 25\n",
    "        self.max_wealth = 10000\n",
    "        self.wealth_buckets = 50\n",
    "        # Here we create our observation space\n",
    "        self.observation_space = Dict({\"age\": Discrete(self.terminal_age - self.starting_age + 1), \"wealth_bucket\": Discrete(self.wealth_buckets)})\n",
    "\n",
    "    def step(self, action):\n",
    "        reward = 0\n",
    "        # Income reduces when you retire\n",
    "        if self.age >= self.retirement_age:\n",
    "            # reward += self.age * 10\n",
    "            self.income = 0\n",
    "        # define market returns\n",
    "        risk_return = 0.05\n",
    "        risk_free_return = 0.01\n",
    "        # transformation\n",
    "        # print(action)\n",
    "        action_equity_allocation = action[\"equity_allocation\"] / 5\n",
    "        action_consumption = action[\"consumption\"] * 10 + 10\n",
    "        # Apply action\n",
    "        # print(action_equity_allocation)\n",
    "        portfolio_return = (risk_return * \\\n",
    "            action_equity_allocation) + (risk_free_return * \\\n",
    "            (1 - action_equity_allocation))\n",
    "        start_wealth = self.wealth\n",
    "        # Here income is added only after the portfolio return\n",
    "        self.wealth = (1 + portfolio_return) * (self.wealth -\n",
    "                                                action_consumption) + self.income\n",
    "        # force wealth to be in grid - need to work on this\n",
    "        if self.wealth > self.max_wealth:\n",
    "            reward += (self.wealth - self.max_wealth) / 100\n",
    "            self.wealth = self.max_wealth\n",
    "        if self.wealth < 0:\n",
    "            self.wealth = 0\n",
    "            reward += -10000\n",
    "            done = True\n",
    "        # Time passes (philosophical consideration here)\n",
    "        self.age += 1\n",
    "        # Complete step if agent is older than terminal age\n",
    "        if self.age == self.terminal_age:\n",
    "            done = True\n",
    "        else:\n",
    "            done = False\n",
    "        reward += action_consumption\n",
    "        # Placeholder for info\n",
    "        info = {\"age\": self.age - 1, \"start_wealth\": start_wealth, \"wealth\": self.wealth, \n",
    "                \"consumption\": action_consumption, \"equity_allocation\": action_equity_allocation, \"port_return\": portfolio_return}\n",
    "        state = {\"age\": self.age - 1, \"wealth_bucket\": int(self.wealth/self.max_wealth * self.wealth_buckets)}\n",
    "        return state, reward, done, info\n",
    "\n",
    "    def render(self, mode='human'):\n",
    "        # no urgent need for this\n",
    "        pass\n",
    "\n",
    "    def reset(self):\n",
    "        # Resetting age and wealth\n",
    "        self.wealth = 100\n",
    "        self.age = self.starting_age\n",
    "        self.income = self.starting_income\n",
    "        state = {\"age\": self.age, \"wealth_bucket\": int(self.wealth/self.max_wealth)}\n",
    "        return state\n",
    "\n",
    "\n",
    "env = LifecycleEnv()\n",
    "# Observation and action space\n",
    "print(\"The observation space: {}\".format(env.observation_space))\n",
    "print(\"The action space: {}\".format(env.action_space))\n"
   ]
  },
  {
   "cell_type": "code",
   "execution_count": 91,
   "metadata": {},
   "outputs": [],
   "source": [
    "# Hyperparameters\n",
    "minutes = 10\n",
    "epochs =  int(minutes * 25000)\n",
    "num_steps = env.terminal_age - env.starting_age + 1\n",
    "epsilon = 1.0\n",
    "learning_rate = 0.9\n",
    "discount_rate = 0.9\n",
    "decay_rate = 0.005\n",
    "\n",
    "# env setup\n",
    "state = env.reset()\n",
    "best_action = OrderedDict()\n",
    "# my q table consist of 2 state actions and 2 observation spaces\n",
    "# I need to change one of the observation space variables into a continuos one and use function approximation\n",
    "q_table = np.ones([env.observation_space[\"age\"].n, env.observation_space[\"wealth_bucket\"].n, \n",
    "    env.action_space[\"equity_allocation\"].n, env.action_space[\"consumption\"].n])\n",
    "\n",
    "for epoch in range(epochs):\n",
    "    state = env.reset()\n",
    "    done = False\n",
    "    for step in range(num_steps):\n",
    "        # take random action\n",
    "        if random.uniform(0, 1) < epsilon:\n",
    "            action = env.action_space.sample()  # Explore action space\n",
    "        else:\n",
    "            # here I select the best action based on my q table\n",
    "            q = q_table[state[\"age\"] - env.starting_age, state[\"wealth_bucket\"]]\n",
    "            max_q_index = np.unravel_index(np.argmax(q, axis=None), q.shape)\n",
    "            best_action['equity_allocation'] = max_q_index[0]\n",
    "            best_action['consumption'] = max_q_index[1]\n",
    "            action = best_action  # Exploit learned values\n",
    "\n",
    "        # apply the action\n",
    "        next_state, reward, done, info = env.step(action)\n",
    "        if done == True:\n",
    "            break\n",
    "        # Update the q table\n",
    "        # print(q_table.shape)\n",
    "        # print(state[\"wealth_bucket\"])\n",
    "        old_value = q_table[state[\"age\"] - env.starting_age, state[\"wealth_bucket\"], action[\"equity_allocation\"], action[\"consumption\"]]\n",
    "        next_max = np.max(q_table[next_state[\"age\"] - env.starting_age, next_state[\"wealth_bucket\"]])\n",
    "        new_value = (1 - learning_rate) * old_value + learning_rate * (reward + discount_rate * next_max)\n",
    "        q_table[state[\"age\"] - env.starting_age, state[\"wealth_bucket\"], action[\"equity_allocation\"], action[\"consumption\"]] = new_value\n",
    "\n",
    "        # If the episode is up, then start another one\n",
    "        state = next_state\n",
    "    # this is a greedy implementation\n",
    "    epsilon = np.exp(-decay_rate * epoch)\n",
    "\n",
    "# Close the env\n",
    "env.close()\n"
   ]
  },
  {
   "cell_type": "code",
   "execution_count": 92,
   "metadata": {},
   "outputs": [
    {
     "name": "stdout",
     "output_type": "stream",
     "text": [
      "-29600\n"
     ]
    }
   ],
   "source": [
    "# watch trained agent\n",
    "state = env.reset()\n",
    "done = False\n",
    "rewards = 0\n",
    "info_df = pd.DataFrame(\n",
    "    columns=(\"age\", \"start_wealth\", \"wealth\", \"consumption\", \"equity_allocation\", \"port_return\"))\n",
    "\n",
    "for step in range(num_steps):\n",
    "    q = q_table[state[\"age\"] - env.starting_age, state[\"wealth_bucket\"]]\n",
    "    max_q_index = np.unravel_index(np.argmax(q, axis=None), q.shape)\n",
    "    best_action['consumption'] = max_q_index[1]\n",
    "    best_action['equity_allocation'] = max_q_index[0]\n",
    "    new_state, reward, done, info = env.step(best_action)\n",
    "    info_df = info_df.append(info, ignore_index=True) \n",
    "    rewards += reward\n",
    "    state = new_state\n",
    "print(rewards)"
   ]
  },
  {
   "cell_type": "code",
   "execution_count": 93,
   "metadata": {},
   "outputs": [
    {
     "data": {
      "text/html": [
       "<div>\n",
       "<style scoped>\n",
       "    .dataframe tbody tr th:only-of-type {\n",
       "        vertical-align: middle;\n",
       "    }\n",
       "\n",
       "    .dataframe tbody tr th {\n",
       "        vertical-align: top;\n",
       "    }\n",
       "\n",
       "    .dataframe thead th {\n",
       "        text-align: right;\n",
       "    }\n",
       "</style>\n",
       "<table border=\"1\" class=\"dataframe\">\n",
       "  <thead>\n",
       "    <tr style=\"text-align: right;\">\n",
       "      <th></th>\n",
       "      <th>age</th>\n",
       "      <th>start_wealth</th>\n",
       "      <th>wealth</th>\n",
       "      <th>consumption</th>\n",
       "      <th>equity_allocation</th>\n",
       "      <th>port_return</th>\n",
       "    </tr>\n",
       "  </thead>\n",
       "  <tbody>\n",
       "    <tr>\n",
       "      <th>0</th>\n",
       "      <td>20.0</td>\n",
       "      <td>100.000000</td>\n",
       "      <td>141.040000</td>\n",
       "      <td>60.0</td>\n",
       "      <td>0.4</td>\n",
       "      <td>0.026</td>\n",
       "    </tr>\n",
       "    <tr>\n",
       "      <th>1</th>\n",
       "      <td>21.0</td>\n",
       "      <td>141.040000</td>\n",
       "      <td>83.147040</td>\n",
       "      <td>60.0</td>\n",
       "      <td>0.4</td>\n",
       "      <td>0.026</td>\n",
       "    </tr>\n",
       "    <tr>\n",
       "      <th>2</th>\n",
       "      <td>22.0</td>\n",
       "      <td>83.147040</td>\n",
       "      <td>24.119216</td>\n",
       "      <td>60.0</td>\n",
       "      <td>0.8</td>\n",
       "      <td>0.042</td>\n",
       "    </tr>\n",
       "    <tr>\n",
       "      <th>3</th>\n",
       "      <td>23.0</td>\n",
       "      <td>24.119216</td>\n",
       "      <td>0.000000</td>\n",
       "      <td>200.0</td>\n",
       "      <td>0.0</td>\n",
       "      <td>0.010</td>\n",
       "    </tr>\n",
       "    <tr>\n",
       "      <th>4</th>\n",
       "      <td>24.0</td>\n",
       "      <td>0.000000</td>\n",
       "      <td>0.000000</td>\n",
       "      <td>10.0</td>\n",
       "      <td>0.0</td>\n",
       "      <td>0.010</td>\n",
       "    </tr>\n",
       "    <tr>\n",
       "      <th>5</th>\n",
       "      <td>25.0</td>\n",
       "      <td>0.000000</td>\n",
       "      <td>0.000000</td>\n",
       "      <td>10.0</td>\n",
       "      <td>0.0</td>\n",
       "      <td>0.010</td>\n",
       "    </tr>\n",
       "  </tbody>\n",
       "</table>\n",
       "</div>"
      ],
      "text/plain": [
       "    age  start_wealth      wealth  consumption  equity_allocation  port_return\n",
       "0  20.0    100.000000  141.040000         60.0                0.4        0.026\n",
       "1  21.0    141.040000   83.147040         60.0                0.4        0.026\n",
       "2  22.0     83.147040   24.119216         60.0                0.8        0.042\n",
       "3  23.0     24.119216    0.000000        200.0                0.0        0.010\n",
       "4  24.0      0.000000    0.000000         10.0                0.0        0.010\n",
       "5  25.0      0.000000    0.000000         10.0                0.0        0.010"
      ]
     },
     "execution_count": 93,
     "metadata": {},
     "output_type": "execute_result"
    }
   ],
   "source": [
    "info_df"
   ]
  },
  {
   "cell_type": "code",
   "execution_count": 94,
   "metadata": {},
   "outputs": [
    {
     "data": {
      "text/plain": [
       "<AxesSubplot:xlabel='age'>"
      ]
     },
     "execution_count": 94,
     "metadata": {},
     "output_type": "execute_result"
    },
    {
     "data": {
      "image/png": "[encoded data removed]",
      "text/plain": [
       "<Figure size 432x288 with 2 Axes>"
      ]
     },
     "metadata": {
      "needs_background": "light"
     },
     "output_type": "display_data"
    }
   ],
   "source": [
    "# print(info_df.set_index(\"age\"))\n",
    "info_df.set_index(\"age\").plot(secondary_y=[\"equity_allocation\"])"
   ]
  },
  {
   "cell_type": "code",
   "execution_count": 95,
   "metadata": {},
   "outputs": [
    {
     "data": {
      "text/plain": [
       "<AxesSubplot:>"
      ]
     },
     "execution_count": 95,
     "metadata": {},
     "output_type": "execute_result"
    },
    {
     "data": {
      "image/png": "[encoded data removed]",
      "text/plain": [
       "<Figure size 432x288 with 2 Axes>"
      ]
     },
     "metadata": {
      "needs_background": "light"
     },
     "output_type": "display_data"
    }
   ],
   "source": [
    "sns.heatmap(pd.DataFrame(q_table.mean(axis=3).mean(axis=2)).T)"
   ]
  },
  {
   "cell_type": "code",
   "execution_count": 96,
   "metadata": {},
   "outputs": [
    {
     "data": {
      "text/plain": [
       "<AxesSubplot:>"
      ]
     },
     "execution_count": 96,
     "metadata": {},
     "output_type": "execute_result"
    },
    {
     "data": {
      "image/png": "[encoded data removed]",
      "text/plain": [
       "<Figure size 432x288 with 2 Axes>"
      ]
     },
     "metadata": {
      "needs_background": "light"
     },
     "output_type": "display_data"
    }
   ],
   "source": [
    "sns.heatmap(pd.DataFrame(q_table.mean(axis=3).mean(axis=1)).T)"
   ]
  },
  {
   "cell_type": "code",
   "execution_count": 97,
   "metadata": {},
   "outputs": [
    {
     "data": {
      "text/plain": [
       "<AxesSubplot:>"
      ]
     },
     "execution_count": 97,
     "metadata": {},
     "output_type": "execute_result"
    },
    {
     "data": {
      "image/png": "[encoded data removed]",
      "text/plain": [
       "<Figure size 432x288 with 2 Axes>"
      ]
     },
     "metadata": {
      "needs_background": "light"
     },
     "output_type": "display_data"
    }
   ],
   "source": [
    "sns.heatmap(pd.DataFrame(q_table.mean(axis=1).mean(axis=1)).T)"
   ]
  }
 ],
 "metadata": {
  "interpreter": {
   "hash": "e09c12f18a2be602246ce7147d4f07d1d3f1fa24fa5d378fb578b8174ce72dfc"
  },
  "kernelspec": {
   "display_name": "Python 3.9.7 ('base')",
   "language": "python",
   "name": "python3"
  },
  "language_info": {
   "codemirror_mode": {
    "name": "ipython",
    "version": 3
   },
   "file_extension": ".py",
   "mimetype": "text/x-python",
   "name": "python",
   "nbconvert_exporter": "python",
   "pygments_lexer": "ipython3",
   "version": "3.9.7"
  },
  "orig_nbformat": 4
 },
 "nbformat": 4,
 "nbformat_minor": 2
}
