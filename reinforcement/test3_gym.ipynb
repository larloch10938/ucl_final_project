{
 "cells": [
  {
   "cell_type": "code",
   "execution_count": 68,
   "metadata": {},
   "outputs": [],
   "source": [
    "import pandas as pd\n",
    "import numpy as np\n",
    "import random\n",
    "\n",
    "import gym\n",
    "from gym.spaces import Discrete, Box, Dict\n",
    "\n",
    "from collections import OrderedDict\n",
    "\n",
    "import matplotlib.pyplot as plt"
   ]
  },
  {
   "cell_type": "code",
   "execution_count": 72,
   "metadata": {},
   "outputs": [
    {
     "name": "stdout",
     "output_type": "stream",
     "text": [
      "The observation space: Dict(age:Discrete(96), obs_wealth:Discrete(1001))\n",
      "The action space: Dict(consumption:Discrete(200), equity_allocation:Discrete(101))\n"
     ]
    }
   ],
   "source": [
    "class LifecycleEnv(gym.Env):\n",
    "    def __init__(self):\n",
    "        # Here we define the choices on consumption and equity allocation\n",
    "        self.action_space = Dict({\"equity_allocation\": Discrete(101),\n",
    "                                  \"consumption\": Discrete(200)})\n",
    "        # Set starting variables\n",
    "        self.wealth = 0\n",
    "        self.starting_income = 100\n",
    "        self.income = self.starting_income\n",
    "        self.starting_age = 20\n",
    "        self.age = self.starting_age\n",
    "        self.retirement_age = 70\n",
    "        self.terminal_age = 115\n",
    "        self.max_wealth = 1000\n",
    "        self.total_consumption = 0\n",
    "        # Here we create our observation space\n",
    "        self.observation_space = Dict({\"age\": Discrete(self.terminal_age - self.starting_age + 1),\n",
    "                                       \"obs_wealth\": Discrete(self.max_wealth + 1)})\n",
    "\n",
    "    def step(self, action):\n",
    "        # Income reduces when you retire\n",
    "        if self.age > self.retirement_age:\n",
    "            self.income = 0\n",
    "        # define market returns\n",
    "        risk_return = 0.05\n",
    "        risk_free_return = 0.02\n",
    "        # tranformation\n",
    "        #print(action)\n",
    "        action_equity_allocation = action[\"equity_allocation\"] / 100\n",
    "        # Apply action\n",
    "        portfolio_return = risk_return * \\\n",
    "            action_equity_allocation + risk_free_return * \\\n",
    "            (1 - action_equity_allocation)\n",
    "        self.wealth = (1 + portfolio_return) * (self.wealth -\n",
    "                                                action[\"consumption\"]) + self.income\n",
    "        self.total_consumption += action[\"consumption\"]\n",
    "        # force wealth to be in grid - need to work on this\n",
    "        if self.wealth > self.max_wealth:\n",
    "            self.wealth = self.max_wealth\n",
    "        if self.wealth < 0:\n",
    "            self.wealth = 0\n",
    "        self.wealth = int(self.wealth)\n",
    "        # Time passes (philosophical consideration here)\n",
    "        self.age += 1\n",
    "        # Complete step if agent is older than terminal age\n",
    "        if self.age == self.terminal_age:\n",
    "            done = True\n",
    "            reward = self.total_consumption\n",
    "        else:\n",
    "            done = False\n",
    "            reward = 0\n",
    "        # Placeholder for info\n",
    "        info = {\"age\": self.age, \"wealth\": self.wealth, \"consumption\": action[\"consumption\"], \"equity_allocation\": action_equity_allocation}\n",
    "        state = {\"age\": self.age, \"wealth\": self.wealth}\n",
    "        return state, reward, done, info\n",
    "\n",
    "    def render(self, mode='human'):\n",
    "        # no urgent need for this\n",
    "        pass\n",
    "\n",
    "    def reset(self):\n",
    "        # Resetting age and wealth\n",
    "        self.wealth = 0\n",
    "        self.age = self.starting_age\n",
    "        self.income = self.starting_income\n",
    "        self.total_consumption = 0\n",
    "        state = {\"age\": self.age, \"wealth\": self.wealth}\n",
    "        return state\n",
    "\n",
    "\n",
    "env = LifecycleEnv()\n",
    "# Observation and action space\n",
    "print(\"The observation space: {}\".format(env.observation_space))\n",
    "print(\"The action space: {}\".format(env.action_space))\n"
   ]
  },
  {
   "cell_type": "code",
   "execution_count": 98,
   "metadata": {},
   "outputs": [],
   "source": [
    "# Hyperparameters\n",
    "epochs = 10000\n",
    "num_steps = env.terminal_age - env.starting_age\n",
    "epsilon = 0.1\n",
    "alpha = 0.1\n",
    "gamma = 0.6\n",
    "\n",
    "# env setup\n",
    "state = env.reset()\n",
    "best_action = OrderedDict()\n",
    "info_df = pd.DataFrame(\n",
    "    columns=(\"age\", \"wealth\", \"consumption\", \"equity_allocation\"))\n",
    "# my q table consist of 2 state actions and 2 observation spaces\n",
    "# I need to change one of the observation space variables into a continuos one and use function approximation\n",
    "q_table = np.zeros([env.observation_space[\"age\"].n, env.observation_space[\"obs_wealth\"].n,\n",
    "                    env.action_space[\"equity_allocation\"].n, env.action_space[\"consumption\"].n])\n",
    "\n",
    "for epoch in range(epochs):\n",
    "    # this is a greedy implementation\n",
    "    epsilon = 1 - (epoch / epochs)\n",
    "    for step in range(num_steps):\n",
    "        # take random action\n",
    "        if random.uniform(0, 1) < epsilon:\n",
    "            action = env.action_space.sample()  # Explore action space\n",
    "        else:\n",
    "            # here I select the best action based on my q table\n",
    "            q = q_table[state[\"age\"] - env.starting_age, state[\"wealth\"]]\n",
    "            max_q_index = np.unravel_index(np.argmax(q, axis=None), q.shape)\n",
    "            best_action['consumption'] = max_q_index[1]\n",
    "            best_action['equity_allocation'] = max_q_index[0]\n",
    "            action = best_action  # Exploit learned values\n",
    "\n",
    "        # apply the action\n",
    "        next_state, reward, done, info = env.step(action)\n",
    "\n",
    "        # Render the env\n",
    "        info_df = info_df.append(info, ignore_index=True) \n",
    "        \n",
    "        old_value = q_table[state[\"age\"] - env.starting_age, state[\"wealth\"], action[\"equity_allocation\"], action[\"consumption\"]]\n",
    "        next_max = np.max(q_table[next_state[\"age\"] - env.starting_age, next_state[\"wealth\"]])\n",
    "        new_value = (1 - alpha) * old_value + alpha * (reward + gamma * next_max)\n",
    "        q_table[state[\"age\"] - env.starting_age, state[\"wealth\"], action[\"equity_allocation\"], action[\"consumption\"]] = new_value\n",
    "\n",
    "        # If the episode is up, then start another one\n",
    "        if done:\n",
    "            if epoch < epochs - 1:\n",
    "                info_df = pd.DataFrame(\n",
    "                    columns=(\"age\", \"wealth\", \"consumption\", \"equity_allocation\"))\n",
    "            env.reset()\n",
    "\n",
    "# print(info_df.set_index(\"age\"))\n",
    "info_df.set_index(\"age\").plot(secondary_y=[\"equity_allocation\"])\n",
    "\n",
    "# Close the env\n",
    "env.close()\n"
   ]
  },
  {
   "cell_type": "code",
   "execution_count": null,
   "metadata": {},
   "outputs": [
    {
     "data": {
      "text/plain": [
       "<matplotlib.image.AxesImage at 0x13c83e5c2b0>"
      ]
     },
     "execution_count": 97,
     "metadata": {},
     "output_type": "execute_result"
    },
    {
     "data": {
      "image/png": "[encoded data removed]",
      "text/plain": [
       "<Figure size 432x288 with 1 Axes>"
      ]
     },
     "metadata": {
      "needs_background": "light"
     },
     "output_type": "display_data"
    }
   ],
   "source": [
    "plt.imshow(q_table[80].mean(axis=0))"
   ]
  },
  {
   "cell_type": "code",
   "execution_count": 83,
   "metadata": {},
   "outputs": [
    {
     "data": {
      "text/html": [
       "<div>\n",
       "<style scoped>\n",
       "    .dataframe tbody tr th:only-of-type {\n",
       "        vertical-align: middle;\n",
       "    }\n",
       "\n",
       "    .dataframe tbody tr th {\n",
       "        vertical-align: top;\n",
       "    }\n",
       "\n",
       "    .dataframe thead th {\n",
       "        text-align: right;\n",
       "    }\n",
       "</style>\n",
       "<table border=\"1\" class=\"dataframe\">\n",
       "  <thead>\n",
       "    <tr style=\"text-align: right;\">\n",
       "      <th></th>\n",
       "      <th>age</th>\n",
       "      <th>wealth</th>\n",
       "      <th>consumption</th>\n",
       "      <th>equity_allocation</th>\n",
       "    </tr>\n",
       "  </thead>\n",
       "  <tbody>\n",
       "    <tr>\n",
       "      <th>0</th>\n",
       "      <td>21.0</td>\n",
       "      <td>28.0</td>\n",
       "      <td>68.0</td>\n",
       "      <td>0.87</td>\n",
       "    </tr>\n",
       "    <tr>\n",
       "      <th>1</th>\n",
       "      <td>22.0</td>\n",
       "      <td>58.0</td>\n",
       "      <td>68.0</td>\n",
       "      <td>0.87</td>\n",
       "    </tr>\n",
       "    <tr>\n",
       "      <th>2</th>\n",
       "      <td>23.0</td>\n",
       "      <td>89.0</td>\n",
       "      <td>68.0</td>\n",
       "      <td>0.87</td>\n",
       "    </tr>\n",
       "    <tr>\n",
       "      <th>3</th>\n",
       "      <td>24.0</td>\n",
       "      <td>121.0</td>\n",
       "      <td>68.0</td>\n",
       "      <td>0.87</td>\n",
       "    </tr>\n",
       "    <tr>\n",
       "      <th>4</th>\n",
       "      <td>25.0</td>\n",
       "      <td>155.0</td>\n",
       "      <td>68.0</td>\n",
       "      <td>0.87</td>\n",
       "    </tr>\n",
       "    <tr>\n",
       "      <th>...</th>\n",
       "      <td>...</td>\n",
       "      <td>...</td>\n",
       "      <td>...</td>\n",
       "      <td>...</td>\n",
       "    </tr>\n",
       "    <tr>\n",
       "      <th>90</th>\n",
       "      <td>111.0</td>\n",
       "      <td>0.0</td>\n",
       "      <td>68.0</td>\n",
       "      <td>0.87</td>\n",
       "    </tr>\n",
       "    <tr>\n",
       "      <th>91</th>\n",
       "      <td>112.0</td>\n",
       "      <td>0.0</td>\n",
       "      <td>68.0</td>\n",
       "      <td>0.87</td>\n",
       "    </tr>\n",
       "    <tr>\n",
       "      <th>92</th>\n",
       "      <td>113.0</td>\n",
       "      <td>0.0</td>\n",
       "      <td>68.0</td>\n",
       "      <td>0.87</td>\n",
       "    </tr>\n",
       "    <tr>\n",
       "      <th>93</th>\n",
       "      <td>114.0</td>\n",
       "      <td>0.0</td>\n",
       "      <td>68.0</td>\n",
       "      <td>0.87</td>\n",
       "    </tr>\n",
       "    <tr>\n",
       "      <th>94</th>\n",
       "      <td>115.0</td>\n",
       "      <td>0.0</td>\n",
       "      <td>68.0</td>\n",
       "      <td>0.87</td>\n",
       "    </tr>\n",
       "  </tbody>\n",
       "</table>\n",
       "<p>95 rows × 4 columns</p>\n",
       "</div>"
      ],
      "text/plain": [
       "      age  wealth  consumption  equity_allocation\n",
       "0    21.0    28.0         68.0               0.87\n",
       "1    22.0    58.0         68.0               0.87\n",
       "2    23.0    89.0         68.0               0.87\n",
       "3    24.0   121.0         68.0               0.87\n",
       "4    25.0   155.0         68.0               0.87\n",
       "..    ...     ...          ...                ...\n",
       "90  111.0     0.0         68.0               0.87\n",
       "91  112.0     0.0         68.0               0.87\n",
       "92  113.0     0.0         68.0               0.87\n",
       "93  114.0     0.0         68.0               0.87\n",
       "94  115.0     0.0         68.0               0.87\n",
       "\n",
       "[95 rows x 4 columns]"
      ]
     },
     "execution_count": 83,
     "metadata": {},
     "output_type": "execute_result"
    }
   ],
   "source": [
    "info_df"
   ]
  },
  {
   "cell_type": "code",
   "execution_count": 86,
   "metadata": {},
   "outputs": [
    {
     "data": {
      "text/plain": [
       "(array([0, 0, 0, 0, 0, 0, 0, 0, 0, 0, 0, 0, 0, 0, 0, 0, 0, 0, 0, 0, 0, 0,\n",
       "        0, 0, 0, 0, 0, 0, 0, 0, 0, 0, 0, 0, 0, 0, 0, 0, 0, 0, 0, 0, 0, 0,\n",
       "        0, 0, 0, 0, 0, 0, 0, 0, 0, 0, 0, 0, 0, 0, 0, 0, 0, 0, 0, 0, 0, 0,\n",
       "        0, 0, 0, 0, 0, 0, 0, 0, 0, 0, 0, 0, 0, 0, 0, 0, 0, 0, 0, 0, 0, 0,\n",
       "        0, 0, 0, 0, 0, 0, 0], dtype=int64),\n",
       " array([0, 0, 0, 0, 0, 0, 0, 0, 0, 0, 0, 0, 0, 0, 0, 0, 0, 0, 0, 0, 0, 0,\n",
       "        0, 0, 0, 0, 0, 0, 0, 0, 0, 0, 0, 0, 0, 0, 0, 0, 0, 0, 0, 0, 0, 0,\n",
       "        0, 0, 0, 0, 0, 0, 0, 0, 0, 0, 0, 0, 0, 0, 0, 0, 0, 0, 0, 0, 0, 0,\n",
       "        0, 0, 0, 0, 0, 0, 0, 0, 0, 0, 0, 0, 0, 0, 0, 0, 0, 0, 0, 0, 0, 0,\n",
       "        0, 0, 0, 0, 0, 0, 0], dtype=int64),\n",
       " array([ 0,  0,  1,  2,  2,  2,  3,  3,  3,  4,  5,  6,  6,  8, 10, 11, 12,\n",
       "        12, 13, 14, 15, 18, 19, 19, 20, 20, 20, 21, 21, 23, 24, 25, 25, 27,\n",
       "        27, 28, 29, 29, 30, 31, 34, 37, 42, 45, 45, 48, 49, 49, 54, 54, 54,\n",
       "        56, 56, 57, 57, 58, 61, 61, 61, 63, 64, 65, 65, 66, 67, 67, 68, 68,\n",
       "        69, 70, 70, 72, 73, 74, 74, 76, 78, 78, 80, 81, 81, 81, 83, 85, 85,\n",
       "        85, 87, 90, 92, 94, 95, 95, 95, 97, 98], dtype=int64),\n",
       " array([144, 155,  38, 119, 124, 152,  49,  81, 196, 143, 171,  89, 197,\n",
       "         48, 161, 167,   8,   9, 186,  12, 191,  27, 132, 153,  10, 118,\n",
       "        167,  89, 107,  65, 115,  24, 164, 111, 176,  70,  43, 105,  71,\n",
       "         14,  30, 170,  25,  68, 149, 165,  74, 168,  50,  90, 131,  57,\n",
       "        151,  54,  77, 175, 109, 120, 130, 185, 133,  68,  92,  28,  56,\n",
       "        171,  87, 123,  91,  45,  92,  54, 112, 161, 176, 166,  49, 114,\n",
       "        185,  22, 136, 170, 117,   0,  33, 110,  68, 101, 163, 108,  53,\n",
       "         67, 108,  66, 149], dtype=int64))"
      ]
     },
     "execution_count": 86,
     "metadata": {},
     "output_type": "execute_result"
    }
   ],
   "source": [
    "q_table.nonzero()"
   ]
  },
  {
   "cell_type": "code",
   "execution_count": 82,
   "metadata": {},
   "outputs": [
    {
     "data": {
      "text/plain": [
       "array([[0., 0., 0., ..., 0., 0., 0.],\n",
       "       [0., 0., 0., ..., 0., 0., 0.],\n",
       "       [0., 0., 0., ..., 0., 0., 0.],\n",
       "       ...,\n",
       "       [0., 0., 0., ..., 0., 0., 0.],\n",
       "       [0., 0., 0., ..., 0., 0., 0.],\n",
       "       [0., 0., 0., ..., 0., 0., 0.]])"
      ]
     },
     "execution_count": 82,
     "metadata": {},
     "output_type": "execute_result"
    }
   ],
   "source": [
    "q_table[80].mean(axis=0)"
   ]
  }
 ],
 "metadata": {
  "interpreter": {
   "hash": "a9d761df76cea27127357d9fe636061ed99d1680c3f678c82d6e60cb9fc9c667"
  },
  "kernelspec": {
   "display_name": "Python 3.10.2 64-bit",
   "language": "python",
   "name": "python3"
  },
  "language_info": {
   "codemirror_mode": {
    "name": "ipython",
    "version": 3
   },
   "file_extension": ".py",
   "mimetype": "text/x-python",
   "name": "python",
   "nbconvert_exporter": "python",
   "pygments_lexer": "ipython3",
   "version": "3.9.7"
  },
  "orig_nbformat": 4
 },
 "nbformat": 4,
 "nbformat_minor": 2
}
