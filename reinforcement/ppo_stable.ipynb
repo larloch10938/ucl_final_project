{
 "cells": [
  {
   "cell_type": "code",
   "execution_count": 1,
   "metadata": {},
   "outputs": [
    {
     "name": "stderr",
     "output_type": "stream",
     "text": [
      "c:\\Users\\astragio\\rep\\Anaconda3\\lib\\site-packages\\gym\\spaces\\box.py:73: UserWarning: \u001b[33mWARN: Box bound precision lowered by casting to float32\u001b[0m\n",
      "  logger.warn(\n"
     ]
    }
   ],
   "source": [
    "from stable_baselines3.common.env_checker import check_env\n",
    "from stable_baselines3 import PPO\n",
    "from stable_baselines3.common.callbacks import BaseCallback\n",
    "from stable_baselines3.common.callbacks import CallbackList, CheckpointCallback, EvalCallback\n",
    "\n",
    "import os.path\n",
    "import numpy as np\n",
    "import pandas as pd\n",
    "from tensorboardX import SummaryWriter\n",
    "\n",
    "from lib_for_dqn import lifecycle\n",
    "\n",
    "N_STEPS = 2_000_000\n",
    "\n",
    "env = lifecycle.LifecycleEnv()\n",
    "check_env(env)\n",
    "model = PPO(\"MlpPolicy\", env, seed = 0, \n",
    "            # learning_rate = 0.0000001,\n",
    "            tensorboard_log=\"./runs/\")"
   ]
  },
  {
   "cell_type": "code",
   "execution_count": 2,
   "metadata": {},
   "outputs": [],
   "source": [
    "class TensorboardCallback(BaseCallback):\n",
    "\n",
    "    def __init__(self, verbose=0):\n",
    "        super(TensorboardCallback, self).__init__(verbose)\n",
    "\n",
    "    def _on_step(self) -> bool:\n",
    "        # Log scalar value (here a random variable)\n",
    "        value = np.random.random()\n",
    "        self.logger.record('random_value', value)\n",
    "        return True"
   ]
  },
  {
   "cell_type": "code",
   "execution_count": 3,
   "metadata": {},
   "outputs": [
    {
     "name": "stderr",
     "output_type": "stream",
     "text": [
      "c:\\Users\\astragio\\rep\\Anaconda3\\lib\\site-packages\\stable_baselines3\\common\\evaluation.py:65: UserWarning: Evaluation environment is not wrapped with a ``Monitor`` wrapper. This may result in reporting modified episode lengths and rewards, if other wrappers happen to modify these. Consider wrapping environment first with ``Monitor`` wrapper.\n",
      "  warnings.warn(\n"
     ]
    },
    {
     "name": "stdout",
     "output_type": "stream",
     "text": [
      "Eval num_timesteps=100000, episode_reward=36.00 +/- 0.00\n",
      "Episode length: 47.00 +/- 0.00\n",
      "New best mean reward!\n",
      "Eval num_timesteps=200000, episode_reward=36.00 +/- 0.00\n",
      "Episode length: 47.00 +/- 0.00\n",
      "Eval num_timesteps=300000, episode_reward=36.04 +/- 0.00\n",
      "Episode length: 47.00 +/- 0.00\n",
      "New best mean reward!\n",
      "Eval num_timesteps=400000, episode_reward=36.43 +/- 0.00\n",
      "Episode length: 48.00 +/- 0.00\n",
      "New best mean reward!\n",
      "Eval num_timesteps=500000, episode_reward=37.13 +/- 0.00\n",
      "Episode length: 49.00 +/- 0.00\n",
      "New best mean reward!\n",
      "Eval num_timesteps=600000, episode_reward=39.99 +/- 0.00\n",
      "Episode length: 51.00 +/- 0.00\n",
      "New best mean reward!\n",
      "Eval num_timesteps=700000, episode_reward=47.48 +/- 0.00\n",
      "Episode length: 57.00 +/- 0.00\n",
      "New best mean reward!\n",
      "Eval num_timesteps=800000, episode_reward=68.73 +/- 0.00\n",
      "Episode length: 82.00 +/- 0.00\n",
      "New best mean reward!\n",
      "Eval num_timesteps=900000, episode_reward=145.05 +/- 0.00\n",
      "Episode length: 96.00 +/- 0.00\n",
      "New best mean reward!\n",
      "Eval num_timesteps=1000000, episode_reward=163.91 +/- 0.00\n",
      "Episode length: 96.00 +/- 0.00\n",
      "New best mean reward!\n"
     ]
    },
    {
     "data": {
      "text/plain": [
       "<stable_baselines3.ppo.ppo.PPO at 0x1c4cda421c0>"
      ]
     },
     "execution_count": 3,
     "metadata": {},
     "output_type": "execute_result"
    }
   ],
   "source": [
    "# if os.path.isfile(\"C:\\\\Users\\\\AS\\\\rep\\\\ucl_final_project\\\\reinforcement\\\\life.zip\"):\n",
    "# model = PPO.load(\"life\", env=env)\n",
    "\n",
    "eval_env = lifecycle.LifecycleEnv()\n",
    "eval_callback = EvalCallback(eval_env, best_model_save_path='./logs/best_model', log_path='./logs/results', eval_freq=(N_STEPS/10))\n",
    "\n",
    "model.learn(total_timesteps=N_STEPS, callback=eval_callback)\n",
    "#model.save(\"life\")"
   ]
  },
  {
   "cell_type": "code",
   "execution_count": 4,
   "metadata": {},
   "outputs": [
    {
     "name": "stdout",
     "output_type": "stream",
     "text": [
      "33.68401296243554\n"
     ]
    }
   ],
   "source": [
    "# watch trained agent\n",
    "state = env.reset()\n",
    "done = False\n",
    "rewards = 0\n",
    "num_steps = env.terminal_age - env.starting_age + 1\n",
    "info_df = pd.DataFrame(\n",
    "    columns=(\"age\", \"wealth\", \"consumption\", \n",
    "    \"equity_allocation\", \"port_return\", \"reward\"))\n",
    "\n",
    "for step in range(num_steps):\n",
    "    action, _states = model.predict(state, deterministic=True)\n",
    "    state, reward, done, info = env.step(action)\n",
    "    info_df.loc[len(info_df.index)] = info\n",
    "    rewards += reward\n",
    "print(rewards)"
   ]
  },
  {
   "cell_type": "code",
   "execution_count": 5,
   "metadata": {},
   "outputs": [
    {
     "data": {
      "text/plain": [
       "(array([ 1.       , -0.8264827], dtype=float32), None)"
      ]
     },
     "execution_count": 5,
     "metadata": {},
     "output_type": "execute_result"
    }
   ],
   "source": [
    "model.predict(np.array([60, 1.0], dtype=np.float32), \n",
    "    deterministic=True)"
   ]
  },
  {
   "cell_type": "code",
   "execution_count": 6,
   "metadata": {},
   "outputs": [
    {
     "data": {
      "text/plain": [
       "array([20.,  1.], dtype=float32)"
      ]
     },
     "execution_count": 6,
     "metadata": {},
     "output_type": "execute_result"
    }
   ],
   "source": [
    "env.reset()"
   ]
  },
  {
   "cell_type": "code",
   "execution_count": 7,
   "metadata": {},
   "outputs": [
    {
     "data": {
      "text/html": [
       "<div>\n",
       "<style scoped>\n",
       "    .dataframe tbody tr th:only-of-type {\n",
       "        vertical-align: middle;\n",
       "    }\n",
       "\n",
       "    .dataframe tbody tr th {\n",
       "        vertical-align: top;\n",
       "    }\n",
       "\n",
       "    .dataframe thead th {\n",
       "        text-align: right;\n",
       "    }\n",
       "</style>\n",
       "<table border=\"1\" class=\"dataframe\">\n",
       "  <thead>\n",
       "    <tr style=\"text-align: right;\">\n",
       "      <th></th>\n",
       "      <th>age</th>\n",
       "      <th>wealth</th>\n",
       "      <th>consumption</th>\n",
       "      <th>equity_allocation</th>\n",
       "      <th>port_return</th>\n",
       "      <th>reward</th>\n",
       "    </tr>\n",
       "  </thead>\n",
       "  <tbody>\n",
       "    <tr>\n",
       "      <th>0</th>\n",
       "      <td>20</td>\n",
       "      <td>1.974726</td>\n",
       "      <td>0.071690</td>\n",
       "      <td>1.0</td>\n",
       "      <td>0.05</td>\n",
       "      <td>-9.928310</td>\n",
       "    </tr>\n",
       "    <tr>\n",
       "      <th>1</th>\n",
       "      <td>21</td>\n",
       "      <td>2.954286</td>\n",
       "      <td>0.113501</td>\n",
       "      <td>1.0</td>\n",
       "      <td>0.05</td>\n",
       "      <td>0.113501</td>\n",
       "    </tr>\n",
       "    <tr>\n",
       "      <th>2</th>\n",
       "      <td>22</td>\n",
       "      <td>3.965067</td>\n",
       "      <td>0.130413</td>\n",
       "      <td>1.0</td>\n",
       "      <td>0.05</td>\n",
       "      <td>0.130413</td>\n",
       "    </tr>\n",
       "    <tr>\n",
       "      <th>3</th>\n",
       "      <td>23</td>\n",
       "      <td>5.041588</td>\n",
       "      <td>0.115935</td>\n",
       "      <td>1.0</td>\n",
       "      <td>0.05</td>\n",
       "      <td>0.115935</td>\n",
       "    </tr>\n",
       "    <tr>\n",
       "      <th>4</th>\n",
       "      <td>24</td>\n",
       "      <td>6.217324</td>\n",
       "      <td>0.072709</td>\n",
       "      <td>1.0</td>\n",
       "      <td>0.05</td>\n",
       "      <td>-9.927291</td>\n",
       "    </tr>\n",
       "    <tr>\n",
       "      <th>...</th>\n",
       "      <td>...</td>\n",
       "      <td>...</td>\n",
       "      <td>...</td>\n",
       "      <td>...</td>\n",
       "      <td>...</td>\n",
       "      <td>...</td>\n",
       "    </tr>\n",
       "    <tr>\n",
       "      <th>91</th>\n",
       "      <td>111</td>\n",
       "      <td>98.729182</td>\n",
       "      <td>3.815289</td>\n",
       "      <td>1.0</td>\n",
       "      <td>0.05</td>\n",
       "      <td>3.815289</td>\n",
       "    </tr>\n",
       "    <tr>\n",
       "      <th>92</th>\n",
       "      <td>112</td>\n",
       "      <td>99.615303</td>\n",
       "      <td>3.857465</td>\n",
       "      <td>1.0</td>\n",
       "      <td>0.05</td>\n",
       "      <td>3.857465</td>\n",
       "    </tr>\n",
       "    <tr>\n",
       "      <th>93</th>\n",
       "      <td>113</td>\n",
       "      <td>100.501438</td>\n",
       "      <td>3.899648</td>\n",
       "      <td>1.0</td>\n",
       "      <td>0.05</td>\n",
       "      <td>3.899648</td>\n",
       "    </tr>\n",
       "    <tr>\n",
       "      <th>94</th>\n",
       "      <td>114</td>\n",
       "      <td>101.387612</td>\n",
       "      <td>3.941808</td>\n",
       "      <td>1.0</td>\n",
       "      <td>0.05</td>\n",
       "      <td>3.941808</td>\n",
       "    </tr>\n",
       "    <tr>\n",
       "      <th>95</th>\n",
       "      <td>115</td>\n",
       "      <td>102.273775</td>\n",
       "      <td>3.984016</td>\n",
       "      <td>1.0</td>\n",
       "      <td>0.05</td>\n",
       "      <td>0.000000</td>\n",
       "    </tr>\n",
       "  </tbody>\n",
       "</table>\n",
       "<p>96 rows × 6 columns</p>\n",
       "</div>"
      ],
      "text/plain": [
       "    age      wealth  consumption  equity_allocation  port_return    reward\n",
       "0    20    1.974726     0.071690                1.0         0.05 -9.928310\n",
       "1    21    2.954286     0.113501                1.0         0.05  0.113501\n",
       "2    22    3.965067     0.130413                1.0         0.05  0.130413\n",
       "3    23    5.041588     0.115935                1.0         0.05  0.115935\n",
       "4    24    6.217324     0.072709                1.0         0.05 -9.927291\n",
       "..  ...         ...          ...                ...          ...       ...\n",
       "91  111   98.729182     3.815289                1.0         0.05  3.815289\n",
       "92  112   99.615303     3.857465                1.0         0.05  3.857465\n",
       "93  113  100.501438     3.899648                1.0         0.05  3.899648\n",
       "94  114  101.387612     3.941808                1.0         0.05  3.941808\n",
       "95  115  102.273775     3.984016                1.0         0.05  0.000000\n",
       "\n",
       "[96 rows x 6 columns]"
      ]
     },
     "execution_count": 7,
     "metadata": {},
     "output_type": "execute_result"
    }
   ],
   "source": [
    "info_df"
   ]
  },
  {
   "cell_type": "code",
   "execution_count": 8,
   "metadata": {},
   "outputs": [
    {
     "data": {
      "text/plain": [
       "Text(0.5, 1.0, 'Reward')"
      ]
     },
     "execution_count": 8,
     "metadata": {},
     "output_type": "execute_result"
    },
    {
     "data": {
      "image/png": "[encoded data removed]",
      "text/plain": [
       "<Figure size 1152x1440 with 4 Axes>"
      ]
     },
     "metadata": {
      "needs_background": "light"
     },
     "output_type": "display_data"
    }
   ],
   "source": [
    "import matplotlib.pyplot as plt\n",
    "\n",
    "fig, ax = plt.subplots(nrows = 4, figsize=(16, 20))\n",
    "info_df.set_index(\"age\").consumption.rename(\"consumption\").plot(ax = ax[0])\n",
    "ax[0].set_title(\"Consumption\")\n",
    "info_df.set_index(\"age\").wealth.plot(ax = ax[1])\n",
    "ax[1].set_title(\"Wealth\")\n",
    "info_df.set_index(\"age\").equity_allocation.plot(ax = ax[2])\n",
    "ax[2].set_title(\"Equity Allocation\")\n",
    "info_df.set_index(\"age\").reward.plot(ax = ax[3])\n",
    "ax[3].set_title(\"Reward\")"
   ]
  }
 ],
 "metadata": {
  "kernelspec": {
   "display_name": "Python 3.9.12 ('base': conda)",
   "language": "python",
   "name": "python3"
  },
  "language_info": {
   "codemirror_mode": {
    "name": "ipython",
    "version": 3
   },
   "file_extension": ".py",
   "mimetype": "text/x-python",
   "name": "python",
   "nbconvert_exporter": "python",
   "pygments_lexer": "ipython3",
   "version": "3.9.12"
  },
  "orig_nbformat": 4,
  "vscode": {
   "interpreter": {
    "hash": "bec9c0931862d91f55eeb094a91ae9473e0cedbd06dd7cc48e77b55e3dd165d6"
   }
  }
 },
 "nbformat": 4,
 "nbformat_minor": 2
}
