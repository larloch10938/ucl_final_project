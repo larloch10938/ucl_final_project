{
 "cells": [
  {
   "cell_type": "code",
   "execution_count": 1,
   "metadata": {},
   "outputs": [
    {
     "name": "stderr",
     "output_type": "stream",
     "text": [
      "c:\\Users\\astragio\\rep\\Anaconda3\\lib\\site-packages\\gym\\spaces\\box.py:73: UserWarning: \u001b[33mWARN: Box bound precision lowered by casting to float32\u001b[0m\n",
      "  logger.warn(\n"
     ]
    }
   ],
   "source": [
    "from stable_baselines3.common.env_checker import check_env\n",
    "from stable_baselines3 import PPO\n",
    "from stable_baselines3.common.callbacks import BaseCallback\n",
    "from stable_baselines3.common.callbacks import CallbackList, CheckpointCallback, EvalCallback\n",
    "\n",
    "import os.path\n",
    "import numpy as np\n",
    "import pandas as pd\n",
    "from tensorboardX import SummaryWriter\n",
    "\n",
    "from lib_for_dqn import lifecycle\n",
    "\n",
    "N_STEPS = 3_000_000\n",
    "\n",
    "env = lifecycle.LifecycleEnv()\n",
    "check_env(env)\n",
    "model = PPO(\"MlpPolicy\", env, seed = 0, \n",
    "            # learning_rate = 0.0000001,\n",
    "            tensorboard_log=\"./runs/\")"
   ]
  },
  {
   "cell_type": "code",
   "execution_count": 2,
   "metadata": {},
   "outputs": [],
   "source": [
    "class TensorboardCallback(BaseCallback):\n",
    "\n",
    "    def __init__(self, verbose=0):\n",
    "        super(TensorboardCallback, self).__init__(verbose)\n",
    "\n",
    "    def _on_step(self) -> bool:\n",
    "        # Log scalar value (here a random variable)\n",
    "        value = np.random.random()\n",
    "        self.logger.record('random_value', value)\n",
    "        return True"
   ]
  },
  {
   "cell_type": "code",
   "execution_count": 3,
   "metadata": {},
   "outputs": [
    {
     "name": "stderr",
     "output_type": "stream",
     "text": [
      "c:\\Users\\astragio\\rep\\Anaconda3\\lib\\site-packages\\stable_baselines3\\common\\evaluation.py:65: UserWarning: Evaluation environment is not wrapped with a ``Monitor`` wrapper. This may result in reporting modified episode lengths and rewards, if other wrappers happen to modify these. Consider wrapping environment first with ``Monitor`` wrapper.\n",
      "  warnings.warn(\n"
     ]
    },
    {
     "name": "stdout",
     "output_type": "stream",
     "text": [
      "Eval num_timesteps=1000000, episode_reward=-670.42 +/- 0.00\n",
      "Episode length: 81.00 +/- 0.00\n",
      "New best mean reward!\n",
      "Eval num_timesteps=2000000, episode_reward=-662.92 +/- 0.00\n",
      "Episode length: 81.00 +/- 0.00\n",
      "New best mean reward!\n",
      "Eval num_timesteps=3000000, episode_reward=38.14 +/- 0.00\n",
      "Episode length: 81.00 +/- 0.00\n",
      "New best mean reward!\n",
      "Eval num_timesteps=4000000, episode_reward=-800.00 +/- 0.00\n",
      "Episode length: 81.00 +/- 0.00\n",
      "Eval num_timesteps=5000000, episode_reward=-800.00 +/- 0.00\n",
      "Episode length: 81.00 +/- 0.00\n",
      "Eval num_timesteps=6000000, episode_reward=-800.00 +/- 0.00\n",
      "Episode length: 81.00 +/- 0.00\n",
      "Eval num_timesteps=7000000, episode_reward=-800.00 +/- 0.00\n",
      "Episode length: 81.00 +/- 0.00\n",
      "Eval num_timesteps=8000000, episode_reward=-800.00 +/- 0.00\n",
      "Episode length: 81.00 +/- 0.00\n",
      "Eval num_timesteps=9000000, episode_reward=-800.00 +/- 0.00\n",
      "Episode length: 81.00 +/- 0.00\n",
      "Eval num_timesteps=10000000, episode_reward=-800.00 +/- 0.00\n",
      "Episode length: 81.00 +/- 0.00\n"
     ]
    },
    {
     "data": {
      "text/plain": [
       "<stable_baselines3.ppo.ppo.PPO at 0x206a480c0d0>"
      ]
     },
     "execution_count": 3,
     "metadata": {},
     "output_type": "execute_result"
    }
   ],
   "source": [
    "# if os.path.isfile(\"C:\\\\Users\\\\AS\\\\rep\\\\ucl_final_project\\\\reinforcement\\\\life.zip\"):\n",
    "#     model = PPO.load(\"life\", env=env)\n",
    "\n",
    "eval_env = lifecycle.LifecycleEnv()\n",
    "eval_callback = EvalCallback(eval_env, best_model_save_path='./logs/best_model', log_path='./logs/results', eval_freq=(N_STEPS/10))\n",
    "\n",
    "model.learn(total_timesteps=N_STEPS, callback=eval_callback)\n",
    "# model.save(\"life\")"
   ]
  },
  {
   "cell_type": "code",
   "execution_count": 4,
   "metadata": {},
   "outputs": [
    {
     "name": "stdout",
     "output_type": "stream",
     "text": [
      "-800.0\n"
     ]
    }
   ],
   "source": [
    "# watch trained agent\n",
    "state = env.reset()\n",
    "done = False\n",
    "rewards = 0\n",
    "num_steps = env.terminal_age - env.starting_age + 1\n",
    "info_df = pd.DataFrame(\n",
    "    columns=(\"age\", \"wealth\", \"consumption\", \n",
    "    \"equity_allocation\", \"port_return\", \"reward\"))\n",
    "\n",
    "for step in range(num_steps):\n",
    "    action, _states = model.predict(state, deterministic=True)\n",
    "    state, reward, done, info = env.step(action)\n",
    "    info_df.loc[len(info_df.index)] = info\n",
    "    rewards += reward\n",
    "print(rewards)"
   ]
  },
  {
   "cell_type": "code",
   "execution_count": 5,
   "metadata": {},
   "outputs": [
    {
     "data": {
      "text/plain": [
       "(array([ 1., -1.], dtype=float32), None)"
      ]
     },
     "execution_count": 5,
     "metadata": {},
     "output_type": "execute_result"
    }
   ],
   "source": [
    "model.predict(np.array([60, 1.0], dtype=np.float32), \n",
    "    deterministic=True)"
   ]
  },
  {
   "cell_type": "code",
   "execution_count": 6,
   "metadata": {},
   "outputs": [
    {
     "data": {
      "text/plain": [
       "array([20.,  1.], dtype=float32)"
      ]
     },
     "execution_count": 6,
     "metadata": {},
     "output_type": "execute_result"
    }
   ],
   "source": [
    "env.reset()"
   ]
  },
  {
   "cell_type": "code",
   "execution_count": 7,
   "metadata": {},
   "outputs": [
    {
     "data": {
      "text/html": [
       "<div>\n",
       "<style scoped>\n",
       "    .dataframe tbody tr th:only-of-type {\n",
       "        vertical-align: middle;\n",
       "    }\n",
       "\n",
       "    .dataframe tbody tr th {\n",
       "        vertical-align: top;\n",
       "    }\n",
       "\n",
       "    .dataframe thead th {\n",
       "        text-align: right;\n",
       "    }\n",
       "</style>\n",
       "<table border=\"1\" class=\"dataframe\">\n",
       "  <thead>\n",
       "    <tr style=\"text-align: right;\">\n",
       "      <th></th>\n",
       "      <th>age</th>\n",
       "      <th>wealth</th>\n",
       "      <th>consumption</th>\n",
       "      <th>equity_allocation</th>\n",
       "      <th>port_return</th>\n",
       "      <th>reward</th>\n",
       "    </tr>\n",
       "  </thead>\n",
       "  <tbody>\n",
       "    <tr>\n",
       "      <th>0</th>\n",
       "      <td>20</td>\n",
       "      <td>2.050000</td>\n",
       "      <td>0.0</td>\n",
       "      <td>1.0</td>\n",
       "      <td>0.05</td>\n",
       "      <td>-10.0</td>\n",
       "    </tr>\n",
       "    <tr>\n",
       "      <th>1</th>\n",
       "      <td>21</td>\n",
       "      <td>3.152500</td>\n",
       "      <td>0.0</td>\n",
       "      <td>1.0</td>\n",
       "      <td>0.05</td>\n",
       "      <td>-10.0</td>\n",
       "    </tr>\n",
       "    <tr>\n",
       "      <th>2</th>\n",
       "      <td>22</td>\n",
       "      <td>4.310125</td>\n",
       "      <td>0.0</td>\n",
       "      <td>1.0</td>\n",
       "      <td>0.05</td>\n",
       "      <td>-10.0</td>\n",
       "    </tr>\n",
       "    <tr>\n",
       "      <th>3</th>\n",
       "      <td>23</td>\n",
       "      <td>5.525631</td>\n",
       "      <td>0.0</td>\n",
       "      <td>1.0</td>\n",
       "      <td>0.05</td>\n",
       "      <td>-10.0</td>\n",
       "    </tr>\n",
       "    <tr>\n",
       "      <th>4</th>\n",
       "      <td>24</td>\n",
       "      <td>6.801913</td>\n",
       "      <td>0.0</td>\n",
       "      <td>1.0</td>\n",
       "      <td>0.05</td>\n",
       "      <td>-10.0</td>\n",
       "    </tr>\n",
       "    <tr>\n",
       "      <th>...</th>\n",
       "      <td>...</td>\n",
       "      <td>...</td>\n",
       "      <td>...</td>\n",
       "      <td>...</td>\n",
       "      <td>...</td>\n",
       "      <td>...</td>\n",
       "    </tr>\n",
       "    <tr>\n",
       "      <th>76</th>\n",
       "      <td>96</td>\n",
       "      <td>803.774931</td>\n",
       "      <td>0.0</td>\n",
       "      <td>1.0</td>\n",
       "      <td>0.05</td>\n",
       "      <td>-10.0</td>\n",
       "    </tr>\n",
       "    <tr>\n",
       "      <th>77</th>\n",
       "      <td>97</td>\n",
       "      <td>843.963678</td>\n",
       "      <td>0.0</td>\n",
       "      <td>1.0</td>\n",
       "      <td>0.05</td>\n",
       "      <td>-10.0</td>\n",
       "    </tr>\n",
       "    <tr>\n",
       "      <th>78</th>\n",
       "      <td>98</td>\n",
       "      <td>886.161862</td>\n",
       "      <td>0.0</td>\n",
       "      <td>1.0</td>\n",
       "      <td>0.05</td>\n",
       "      <td>-10.0</td>\n",
       "    </tr>\n",
       "    <tr>\n",
       "      <th>79</th>\n",
       "      <td>99</td>\n",
       "      <td>930.469955</td>\n",
       "      <td>0.0</td>\n",
       "      <td>1.0</td>\n",
       "      <td>0.05</td>\n",
       "      <td>-10.0</td>\n",
       "    </tr>\n",
       "    <tr>\n",
       "      <th>80</th>\n",
       "      <td>100</td>\n",
       "      <td>976.993453</td>\n",
       "      <td>0.0</td>\n",
       "      <td>1.0</td>\n",
       "      <td>0.05</td>\n",
       "      <td>0.0</td>\n",
       "    </tr>\n",
       "  </tbody>\n",
       "</table>\n",
       "<p>81 rows × 6 columns</p>\n",
       "</div>"
      ],
      "text/plain": [
       "    age      wealth  consumption  equity_allocation  port_return  reward\n",
       "0    20    2.050000          0.0                1.0         0.05   -10.0\n",
       "1    21    3.152500          0.0                1.0         0.05   -10.0\n",
       "2    22    4.310125          0.0                1.0         0.05   -10.0\n",
       "3    23    5.525631          0.0                1.0         0.05   -10.0\n",
       "4    24    6.801913          0.0                1.0         0.05   -10.0\n",
       "..  ...         ...          ...                ...          ...     ...\n",
       "76   96  803.774931          0.0                1.0         0.05   -10.0\n",
       "77   97  843.963678          0.0                1.0         0.05   -10.0\n",
       "78   98  886.161862          0.0                1.0         0.05   -10.0\n",
       "79   99  930.469955          0.0                1.0         0.05   -10.0\n",
       "80  100  976.993453          0.0                1.0         0.05     0.0\n",
       "\n",
       "[81 rows x 6 columns]"
      ]
     },
     "execution_count": 7,
     "metadata": {},
     "output_type": "execute_result"
    }
   ],
   "source": [
    "info_df"
   ]
  },
  {
   "cell_type": "code",
   "execution_count": 8,
   "metadata": {},
   "outputs": [
    {
     "data": {
      "text/plain": [
       "Text(0.5, 1.0, 'Reward')"
      ]
     },
     "execution_count": 8,
     "metadata": {},
     "output_type": "execute_result"
    },
    {
     "data": {
      "image/png": "[encoded data removed]",
      "text/plain": [
       "<Figure size 1152x1440 with 4 Axes>"
      ]
     },
     "metadata": {
      "needs_background": "light"
     },
     "output_type": "display_data"
    }
   ],
   "source": [
    "import matplotlib.pyplot as plt\n",
    "\n",
    "fig, ax = plt.subplots(nrows = 4, figsize=(16, 20))\n",
    "info_df.set_index(\"age\").consumption.rename(\"consumption\").plot(ax = ax[0])\n",
    "ax[0].set_title(\"Consumption\")\n",
    "info_df.set_index(\"age\").wealth.plot(ax = ax[1])\n",
    "ax[1].set_title(\"Wealth\")\n",
    "info_df.set_index(\"age\").equity_allocation.plot(ax = ax[2])\n",
    "ax[2].set_title(\"Equity Allocation\")\n",
    "info_df.set_index(\"age\").reward.plot(ax = ax[3])\n",
    "ax[3].set_title(\"Reward\")"
   ]
  }
 ],
 "metadata": {
  "kernelspec": {
   "display_name": "Python 3.9.12 ('base': conda)",
   "language": "python",
   "name": "python3"
  },
  "language_info": {
   "codemirror_mode": {
    "name": "ipython",
    "version": 3
   },
   "file_extension": ".py",
   "mimetype": "text/x-python",
   "name": "python",
   "nbconvert_exporter": "python",
   "pygments_lexer": "ipython3",
   "version": "3.9.12"
  },
  "orig_nbformat": 4,
  "vscode": {
   "interpreter": {
    "hash": "bec9c0931862d91f55eeb094a91ae9473e0cedbd06dd7cc48e77b55e3dd165d6"
   }
  }
 },
 "nbformat": 4,
 "nbformat_minor": 2
}
