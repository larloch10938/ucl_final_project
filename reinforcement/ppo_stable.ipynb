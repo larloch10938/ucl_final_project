{
 "cells": [
  {
   "cell_type": "code",
   "execution_count": 1,
   "metadata": {},
   "outputs": [],
   "source": [
    "from stable_baselines3.common.env_checker import check_env\n",
    "from stable_baselines3 import PPO\n",
    "from stable_baselines3.common.callbacks import EvalCallback\n",
    "\n",
    "import os.path\n",
    "import numpy as np\n",
    "import pandas as pd\n",
    "import matplotlib.pyplot as plt\n",
    "from tensorboardX import SummaryWriter\n",
    "\n",
    "from sklearn.linear_model import Ridge\n",
    "from sklearn.preprocessing import PolynomialFeatures\n",
    "from sklearn.pipeline import make_pipeline\n",
    "\n",
    "from lib_for_dqn import lifecycle"
   ]
  },
  {
   "cell_type": "code",
   "execution_count": 2,
   "metadata": {},
   "outputs": [],
   "source": [
    "mortality_by_age = [0.003536, 0.000213,\n",
    "0.000127,\n",
    "0.000098,\n",
    "0.000068,\n",
    "0.000086,\n",
    "0.000082,\n",
    "0.000062,\n",
    "0.000064,\n",
    "0.000053,\n",
    "0.000064,\n",
    "0.000066,\n",
    "0.00006,\n",
    "0.00008,\n",
    "0.000101,\n",
    "0.000112,\n",
    "0.000147,\n",
    "0.000159,\n",
    "0.000227,\n",
    "0.0002,\n",
    "0.00019,\n",
    "0.000211,\n",
    "0.000229,\n",
    "0.000222,\n",
    "0.000222,\n",
    "0.000254,\n",
    "0.000262,\n",
    "0.000292,\n",
    "0.000314,\n",
    "0.00032,\n",
    "0.00037,\n",
    "0.000394,\n",
    "0.000453,\n",
    "0.000486,\n",
    "0.000556,\n",
    "0.000582,\n",
    "0.000645,\n",
    "0.000784,\n",
    "0.000732,\n",
    "0.000852,\n",
    "0.000902,\n",
    "0.000986,\n",
    "0.001073,\n",
    "0.001171,\n",
    "0.001316,\n",
    "0.001425,\n",
    "0.001564,\n",
    "0.001695,\n",
    "0.00184,\n",
    "0.001943,\n",
    "0.002169,\n",
    "0.002358,\n",
    "0.002557,\n",
    "0.002697,\n",
    "0.002914,\n",
    "0.003194,\n",
    "0.003542,\n",
    "0.003816,\n",
    "0.00423,\n",
    "0.004616,\n",
    "0.005054,\n",
    "0.005492,\n",
    "0.006264,\n",
    "0.006714,\n",
    "0.007264,\n",
    "0.007988,\n",
    "0.008573,\n",
    "0.00938,\n",
    "0.01033,\n",
    "0.011296,\n",
    "0.012437,\n",
    "0.013337,\n",
    "0.015241,\n",
    "0.017347,\n",
    "0.019167,\n",
    "0.021437,\n",
    "0.024217,\n",
    "0.027308,\n",
    "0.030961,\n",
    "0.034481,\n",
    "0.038463,\n",
    "0.043634,\n",
    "0.048958,\n",
    "0.056269,\n",
    "0.063935,\n",
    "0.072462,\n",
    "0.083094,\n",
    "0.093462,\n",
    "0.106434,\n",
    "0.118942,\n",
    "0.133494,\n",
    "0.15024,\n",
    "0.166856,\n",
    "0.18453,\n",
    "0.204758,\n",
    "0.228528,\n",
    "0.25139,\n",
    "0.268554,\n",
    "0.294374,\n",
    "0.315445,\n",
    "0.351349,\n",
    "0.351349,\n",
    "0.351349,\n",
    "0.351349,\n",
    "0.351349,\n",
    "0.351349,\n",
    "0.351349,\n",
    "0.351349,\n",
    "0.351349,\n",
    "0.351349,\n",
    "0.351349,\n",
    "0.351349,\n",
    "0.351349,\n",
    "0.351349,\n",
    "0.351349,\n",
    "1,]"
   ]
  },
  {
   "cell_type": "code",
   "execution_count": 3,
   "metadata": {},
   "outputs": [
    {
     "data": {
      "text/plain": [
       "[<matplotlib.lines.Line2D at 0x204d9eeccd0>]"
      ]
     },
     "execution_count": 3,
     "metadata": {},
     "output_type": "execute_result"
    },
    {
     "data": {
      "image/png": "[encoded data removed]",
      "text/plain": [
       "<Figure size 432x288 with 1 Axes>"
      ]
     },
     "metadata": {
      "needs_background": "light"
     },
     "output_type": "display_data"
    }
   ],
   "source": [
    "# whole range we want to plot\n",
    "x_plot = np.linspace(0, 120, 120)\n",
    "\n",
    "x_train = np.array([20, 25, 35, 45, 55, 65])\n",
    "y_train = [17849, 26021, 32994, 35846, 33336, 8848]\n",
    "# plot function\n",
    "fig, ax = plt.subplots()\n",
    "model = make_pipeline(PolynomialFeatures(3), Ridge(alpha=1e-3))\n",
    "model.fit(x_train.reshape(-1, 1), y_train)\n",
    "# I am dividing by 30000 to normalize the data\n",
    "y_plot = model.predict(x_plot.reshape(-1, 1)) / 30000\n",
    "y_plot[y_plot < 0] = 0\n",
    "income_by_age = y_plot\n",
    "ax.plot(x_plot, y_plot, label=\"degree 3\")"
   ]
  },
  {
   "cell_type": "code",
   "execution_count": 4,
   "metadata": {},
   "outputs": [
    {
     "name": "stderr",
     "output_type": "stream",
     "text": [
      "c:\\Users\\AS\\anaconda3\\lib\\site-packages\\gym\\spaces\\box.py:73: UserWarning: \u001b[33mWARN: Box bound precision lowered by casting to float32\u001b[0m\n",
      "  logger.warn(\n"
     ]
    }
   ],
   "source": [
    "N_STEPS = 300_000\n",
    "\n",
    "env = lifecycle.LifecycleEnv(income_profile = income_by_age, mortality_profile = mortality_by_age)\n",
    "check_env(env)\n",
    "model = PPO(\"MlpPolicy\", env, seed = 0, tensorboard_log=\"./runs/\")"
   ]
  },
  {
   "cell_type": "code",
   "execution_count": 5,
   "metadata": {},
   "outputs": [
    {
     "name": "stderr",
     "output_type": "stream",
     "text": [
      "c:\\Users\\AS\\rep\\ucl_final_project\\reinforcement\\lib_for_dqn\\lifecycle.py:70: RuntimeWarning: divide by zero encountered in double_scalars\n",
      "  \"percent_consumption\": (action_consumption / self.wealth),\n",
      "c:\\Users\\AS\\anaconda3\\lib\\site-packages\\stable_baselines3\\common\\evaluation.py:65: UserWarning: Evaluation environment is not wrapped with a ``Monitor`` wrapper. This may result in reporting modified episode lengths and rewards, if other wrappers happen to modify these. Consider wrapping environment first with ``Monitor`` wrapper.\n",
      "  warnings.warn(\n"
     ]
    },
    {
     "name": "stdout",
     "output_type": "stream",
     "text": [
      "Eval num_timesteps=30000, episode_reward=0.42 +/- 44.00\n",
      "Episode length: 45.00 +/- 17.91\n",
      "New best mean reward!\n",
      "Eval num_timesteps=60000, episode_reward=64.28 +/- 20.02\n",
      "Episode length: 60.60 +/- 14.88\n",
      "New best mean reward!\n",
      "Eval num_timesteps=90000, episode_reward=52.69 +/- 23.92\n",
      "Episode length: 52.80 +/- 18.93\n",
      "Eval num_timesteps=120000, episode_reward=62.33 +/- 18.65\n",
      "Episode length: 57.80 +/- 9.45\n",
      "Eval num_timesteps=150000, episode_reward=54.78 +/- 33.97\n",
      "Episode length: 47.80 +/- 25.01\n",
      "Eval num_timesteps=180000, episode_reward=86.97 +/- 20.16\n",
      "Episode length: 66.20 +/- 10.57\n",
      "New best mean reward!\n",
      "Eval num_timesteps=210000, episode_reward=66.12 +/- 50.39\n",
      "Episode length: 69.40 +/- 7.79\n",
      "Eval num_timesteps=240000, episode_reward=75.07 +/- 17.91\n",
      "Episode length: 64.20 +/- 11.46\n",
      "Eval num_timesteps=270000, episode_reward=65.46 +/- 22.14\n",
      "Episode length: 53.00 +/- 12.47\n",
      "Eval num_timesteps=300000, episode_reward=108.69 +/- 13.21\n",
      "Episode length: 73.60 +/- 4.27\n",
      "New best mean reward!\n"
     ]
    },
    {
     "data": {
      "text/plain": [
       "<stable_baselines3.ppo.ppo.PPO at 0x204da388550>"
      ]
     },
     "execution_count": 5,
     "metadata": {},
     "output_type": "execute_result"
    }
   ],
   "source": [
    "#if os.path.isfile(\"C:\\\\Users\\\\AS\\\\rep\\\\ucl_final_project\\\\life_sac.zip\"):\n",
    "# model = SAC.load(\"life_sac_v2\", env=env)\n",
    "\n",
    "eval_env = lifecycle.LifecycleEnv(income_profile = income_by_age, mortality_profile = mortality_by_age)\n",
    "eval_callback = EvalCallback(eval_env, best_model_save_path='./logs/best_model', log_path='./logs/results', eval_freq=(N_STEPS/10))\n",
    "\n",
    "model.learn(total_timesteps=N_STEPS, callback=eval_callback)\n",
    "# model.save(\"life_sac_v2\")"
   ]
  },
  {
   "cell_type": "code",
   "execution_count": 6,
   "metadata": {},
   "outputs": [],
   "source": [
    "# watch trained agent\n",
    "num_steps = env.terminal_age - env.starting_age + 1\n",
    "info_df = pd.DataFrame(\n",
    "    columns=(\"run\", \"age\", \"wealth\", \"percent_consumption\", \"consumption\", \"consumption_diff\",\n",
    "    \"equity_allocation\", \"port_return\", \"reward\"))\n",
    "\n",
    "runs = 500\n",
    "for run_number in range(runs):\n",
    "    state = env.reset()\n",
    "    done = False\n",
    "    for step in range(num_steps):\n",
    "        action, _states = model.predict(state, deterministic=True)\n",
    "        state, reward, done, info = env.step(action)\n",
    "        info.update(run = run_number) \n",
    "        info_df.loc[len(info_df.index)] = info\n",
    "grouped_info_df = info_df.groupby('age').mean()"
   ]
  },
  {
   "cell_type": "code",
   "execution_count": 7,
   "metadata": {},
   "outputs": [
    {
     "data": {
      "text/plain": [
       "run                    249.500000\n",
       "age                    115.000000\n",
       "wealth                 308.395421\n",
       "percent_consumption           inf\n",
       "consumption              0.838913\n",
       "consumption_diff         0.010851\n",
       "equity_allocation        0.855355\n",
       "port_return              0.060805\n",
       "reward                 -19.158609\n",
       "dtype: float64"
      ]
     },
     "execution_count": 7,
     "metadata": {},
     "output_type": "execute_result"
    }
   ],
   "source": [
    "info_df[info_df.age == 115].mean()"
   ]
  },
  {
   "cell_type": "code",
   "execution_count": 8,
   "metadata": {},
   "outputs": [
    {
     "data": {
      "text/plain": [
       "array([[<AxesSubplot:title={'center':'wealth'}>]], dtype=object)"
      ]
     },
     "execution_count": 8,
     "metadata": {},
     "output_type": "execute_result"
    },
    {
     "data": {
      "image/png": "[encoded data removed]",
      "text/plain": [
       "<Figure size 432x288 with 1 Axes>"
      ]
     },
     "metadata": {
      "needs_background": "light"
     },
     "output_type": "display_data"
    }
   ],
   "source": [
    "info_df[info_df.age == 115].hist(column='wealth')"
   ]
  },
  {
   "cell_type": "code",
   "execution_count": 9,
   "metadata": {},
   "outputs": [
    {
     "data": {
      "text/plain": [
       "Text(0.5, 1.0, 'Consumption')"
      ]
     },
     "execution_count": 9,
     "metadata": {},
     "output_type": "execute_result"
    },
    {
     "data": {
      "image/png": "[encoded data removed]",
      "text/plain": [
       "<Figure size 1152x360 with 1 Axes>"
      ]
     },
     "metadata": {
      "needs_background": "light"
     },
     "output_type": "display_data"
    }
   ],
   "source": [
    "fig, ax = plt.subplots(nrows = 1, figsize=(16, 5))\n",
    "grouped_info_df.consumption.rename(\"consumption\").plot(ax = ax)\n",
    "ax.set_title(\"Consumption\")"
   ]
  },
  {
   "cell_type": "code",
   "execution_count": 10,
   "metadata": {},
   "outputs": [
    {
     "data": {
      "text/plain": [
       "Text(0.5, 1.0, 'Wealth')"
      ]
     },
     "execution_count": 10,
     "metadata": {},
     "output_type": "execute_result"
    },
    {
     "data": {
      "image/png": "[encoded data removed]",
      "text/plain": [
       "<Figure size 1152x360 with 1 Axes>"
      ]
     },
     "metadata": {
      "needs_background": "light"
     },
     "output_type": "display_data"
    }
   ],
   "source": [
    "fig, ax = plt.subplots(nrows = 1, figsize=(16, 5))\n",
    "grouped_info_df.wealth.plot(ax = ax)\n",
    "ax.set_title(\"Wealth\")"
   ]
  },
  {
   "cell_type": "code",
   "execution_count": 12,
   "metadata": {},
   "outputs": [
    {
     "data": {
      "text/plain": [
       "Text(0.5, 1.0, 'Equity Allocation')"
      ]
     },
     "execution_count": 12,
     "metadata": {},
     "output_type": "execute_result"
    },
    {
     "data": {
      "image/png": "[encoded data removed]",
      "text/plain": [
       "<Figure size 1152x360 with 1 Axes>"
      ]
     },
     "metadata": {
      "needs_background": "light"
     },
     "output_type": "display_data"
    }
   ],
   "source": [
    "fig, ax = plt.subplots(nrows = 1, figsize=(16, 5))\n",
    "grouped_info_df.equity_allocation.plot(ax = ax)\n",
    "ax.set_title(\"Equity Allocation\")"
   ]
  },
  {
   "cell_type": "code",
   "execution_count": 14,
   "metadata": {},
   "outputs": [
    {
     "data": {
      "text/plain": [
       "Text(0.5, 1.0, 'Reward')"
      ]
     },
     "execution_count": 14,
     "metadata": {},
     "output_type": "execute_result"
    },
    {
     "data": {
      "image/png": "[encoded data removed]",
      "text/plain": [
       "<Figure size 1152x360 with 1 Axes>"
      ]
     },
     "metadata": {
      "needs_background": "light"
     },
     "output_type": "display_data"
    }
   ],
   "source": [
    "fig, ax = plt.subplots(nrows = 1, figsize=(16, 5))\n",
    "grouped_info_df.reward.plot(ax = ax)\n",
    "ax.set_title(\"Reward\")"
   ]
  },
  {
   "cell_type": "code",
   "execution_count": 11,
   "metadata": {},
   "outputs": [
    {
     "ename": "TypeError",
     "evalue": "'AxesSubplot' object is not subscriptable",
     "output_type": "error",
     "traceback": [
      "\u001b[1;31m---------------------------------------------------------------------------\u001b[0m",
      "\u001b[1;31mTypeError\u001b[0m                                 Traceback (most recent call last)",
      "\u001b[1;32m<ipython-input-11-95cde83965a0>\u001b[0m in \u001b[0;36m<module>\u001b[1;34m\u001b[0m\n\u001b[0;32m      1\u001b[0m \u001b[0mfig\u001b[0m\u001b[1;33m,\u001b[0m \u001b[0max\u001b[0m \u001b[1;33m=\u001b[0m \u001b[0mplt\u001b[0m\u001b[1;33m.\u001b[0m\u001b[0msubplots\u001b[0m\u001b[1;33m(\u001b[0m\u001b[0mnrows\u001b[0m \u001b[1;33m=\u001b[0m \u001b[1;36m1\u001b[0m\u001b[1;33m,\u001b[0m \u001b[0mfigsize\u001b[0m\u001b[1;33m=\u001b[0m\u001b[1;33m(\u001b[0m\u001b[1;36m16\u001b[0m\u001b[1;33m,\u001b[0m \u001b[1;36m5\u001b[0m\u001b[1;33m)\u001b[0m\u001b[1;33m)\u001b[0m\u001b[1;33m\u001b[0m\u001b[1;33m\u001b[0m\u001b[0m\n\u001b[1;32m----> 2\u001b[1;33m \u001b[0mgrouped_info_df\u001b[0m\u001b[1;33m.\u001b[0m\u001b[0mpercent_consumption\u001b[0m\u001b[1;33m.\u001b[0m\u001b[0mrename\u001b[0m\u001b[1;33m(\u001b[0m\u001b[1;34m\"percent_consumption\"\u001b[0m\u001b[1;33m)\u001b[0m\u001b[1;33m.\u001b[0m\u001b[0mplot\u001b[0m\u001b[1;33m(\u001b[0m\u001b[0max\u001b[0m \u001b[1;33m=\u001b[0m \u001b[0max\u001b[0m\u001b[1;33m[\u001b[0m\u001b[1;36m1\u001b[0m\u001b[1;33m]\u001b[0m\u001b[1;33m)\u001b[0m\u001b[1;33m\u001b[0m\u001b[1;33m\u001b[0m\u001b[0m\n\u001b[0m\u001b[0;32m      3\u001b[0m \u001b[0max\u001b[0m\u001b[1;33m[\u001b[0m\u001b[1;36m1\u001b[0m\u001b[1;33m]\u001b[0m\u001b[1;33m.\u001b[0m\u001b[0mset_title\u001b[0m\u001b[1;33m(\u001b[0m\u001b[1;34m\"% Consumption\"\u001b[0m\u001b[1;33m)\u001b[0m\u001b[1;33m\u001b[0m\u001b[1;33m\u001b[0m\u001b[0m\n\u001b[0;32m      4\u001b[0m \u001b[0mgrouped_info_df\u001b[0m\u001b[1;33m.\u001b[0m\u001b[0mconsumption_diff\u001b[0m\u001b[1;33m.\u001b[0m\u001b[0mrename\u001b[0m\u001b[1;33m(\u001b[0m\u001b[1;34m\"consumption_diff\"\u001b[0m\u001b[1;33m)\u001b[0m\u001b[1;33m.\u001b[0m\u001b[0mplot\u001b[0m\u001b[1;33m(\u001b[0m\u001b[0max\u001b[0m \u001b[1;33m=\u001b[0m \u001b[0max\u001b[0m\u001b[1;33m[\u001b[0m\u001b[1;36m2\u001b[0m\u001b[1;33m]\u001b[0m\u001b[1;33m)\u001b[0m\u001b[1;33m\u001b[0m\u001b[1;33m\u001b[0m\u001b[0m\n\u001b[0;32m      5\u001b[0m \u001b[0max\u001b[0m\u001b[1;33m[\u001b[0m\u001b[1;36m2\u001b[0m\u001b[1;33m]\u001b[0m\u001b[1;33m.\u001b[0m\u001b[0mset_title\u001b[0m\u001b[1;33m(\u001b[0m\u001b[1;34m\"consumption_diff\"\u001b[0m\u001b[1;33m)\u001b[0m\u001b[1;33m\u001b[0m\u001b[1;33m\u001b[0m\u001b[0m\n",
      "\u001b[1;31mTypeError\u001b[0m: 'AxesSubplot' object is not subscriptable"
     ]
    },
    {
     "data": {
      "image/png": "[encoded data removed]",
      "text/plain": [
       "<Figure size 1152x360 with 1 Axes>"
      ]
     },
     "metadata": {
      "needs_background": "light"
     },
     "output_type": "display_data"
    }
   ],
   "source": [
    "fig, ax = plt.subplots(nrows = 1, figsize=(16, 5))\n",
    "grouped_info_df.percent_consumption.rename(\"percent_consumption\").plot(ax = ax[1])\n",
    "ax[1].set_title(\"% Consumption\")\n",
    "grouped_info_df.consumption_diff.rename(\"consumption_diff\").plot(ax = ax[2])\n",
    "ax[2].set_title(\"consumption_diff\")\n"
   ]
  },
  {
   "cell_type": "code",
   "execution_count": null,
   "metadata": {},
   "outputs": [
    {
     "data": {
      "text/html": [
       "<div>\n",
       "<style scoped>\n",
       "    .dataframe tbody tr th:only-of-type {\n",
       "        vertical-align: middle;\n",
       "    }\n",
       "\n",
       "    .dataframe tbody tr th {\n",
       "        vertical-align: top;\n",
       "    }\n",
       "\n",
       "    .dataframe thead th {\n",
       "        text-align: right;\n",
       "    }\n",
       "</style>\n",
       "<table border=\"1\" class=\"dataframe\">\n",
       "  <thead>\n",
       "    <tr style=\"text-align: right;\">\n",
       "      <th></th>\n",
       "      <th>wealth</th>\n",
       "      <th>percent_consumption</th>\n",
       "      <th>consumption</th>\n",
       "      <th>consumption_diff</th>\n",
       "      <th>equity_allocation</th>\n",
       "      <th>port_return</th>\n",
       "      <th>reward</th>\n",
       "    </tr>\n",
       "    <tr>\n",
       "      <th>age</th>\n",
       "      <th></th>\n",
       "      <th></th>\n",
       "      <th></th>\n",
       "      <th></th>\n",
       "      <th></th>\n",
       "      <th></th>\n",
       "      <th></th>\n",
       "    </tr>\n",
       "  </thead>\n",
       "  <tbody>\n",
       "    <tr>\n",
       "      <th>20</th>\n",
       "      <td>1.329607</td>\n",
       "      <td>0.252609</td>\n",
       "      <td>0.333259</td>\n",
       "      <td>0.233259</td>\n",
       "      <td>0.903940</td>\n",
       "      <td>0.034256</td>\n",
       "      <td>0.333259</td>\n",
       "    </tr>\n",
       "    <tr>\n",
       "      <th>21</th>\n",
       "      <td>1.692052</td>\n",
       "      <td>0.216581</td>\n",
       "      <td>0.360721</td>\n",
       "      <td>0.027495</td>\n",
       "      <td>0.905640</td>\n",
       "      <td>0.050276</td>\n",
       "      <td>0.365050</td>\n",
       "    </tr>\n",
       "    <tr>\n",
       "      <th>22</th>\n",
       "      <td>2.090187</td>\n",
       "      <td>0.190711</td>\n",
       "      <td>0.391231</td>\n",
       "      <td>0.030790</td>\n",
       "      <td>0.916480</td>\n",
       "      <td>0.064319</td>\n",
       "      <td>0.400677</td>\n",
       "    </tr>\n",
       "    <tr>\n",
       "      <th>23</th>\n",
       "      <td>2.507844</td>\n",
       "      <td>0.173287</td>\n",
       "      <td>0.425235</td>\n",
       "      <td>0.034866</td>\n",
       "      <td>0.923709</td>\n",
       "      <td>0.061765</td>\n",
       "      <td>0.440728</td>\n",
       "    </tr>\n",
       "    <tr>\n",
       "      <th>24</th>\n",
       "      <td>2.920420</td>\n",
       "      <td>0.161999</td>\n",
       "      <td>0.461040</td>\n",
       "      <td>0.037744</td>\n",
       "      <td>0.926451</td>\n",
       "      <td>0.051330</td>\n",
       "      <td>0.483571</td>\n",
       "    </tr>\n",
       "    <tr>\n",
       "      <th>...</th>\n",
       "      <td>...</td>\n",
       "      <td>...</td>\n",
       "      <td>...</td>\n",
       "      <td>...</td>\n",
       "      <td>...</td>\n",
       "      <td>...</td>\n",
       "      <td>...</td>\n",
       "    </tr>\n",
       "    <tr>\n",
       "      <th>111</th>\n",
       "      <td>28.308510</td>\n",
       "      <td>NaN</td>\n",
       "      <td>0.801909</td>\n",
       "      <td>0.011196</td>\n",
       "      <td>0.697256</td>\n",
       "      <td>0.036131</td>\n",
       "      <td>-16.828315</td>\n",
       "    </tr>\n",
       "    <tr>\n",
       "      <th>112</th>\n",
       "      <td>28.569757</td>\n",
       "      <td>NaN</td>\n",
       "      <td>0.797340</td>\n",
       "      <td>0.011868</td>\n",
       "      <td>0.700250</td>\n",
       "      <td>0.046063</td>\n",
       "      <td>-17.625043</td>\n",
       "    </tr>\n",
       "    <tr>\n",
       "      <th>113</th>\n",
       "      <td>28.653690</td>\n",
       "      <td>NaN</td>\n",
       "      <td>0.794091</td>\n",
       "      <td>0.011728</td>\n",
       "      <td>0.698999</td>\n",
       "      <td>0.039843</td>\n",
       "      <td>-17.811148</td>\n",
       "    </tr>\n",
       "    <tr>\n",
       "      <th>114</th>\n",
       "      <td>29.155207</td>\n",
       "      <td>NaN</td>\n",
       "      <td>0.790744</td>\n",
       "      <td>0.011229</td>\n",
       "      <td>0.702929</td>\n",
       "      <td>0.060617</td>\n",
       "      <td>-18.200049</td>\n",
       "    </tr>\n",
       "    <tr>\n",
       "      <th>115</th>\n",
       "      <td>29.534343</td>\n",
       "      <td>NaN</td>\n",
       "      <td>0.789802</td>\n",
       "      <td>0.011188</td>\n",
       "      <td>0.700722</td>\n",
       "      <td>0.055556</td>\n",
       "      <td>-18.581435</td>\n",
       "    </tr>\n",
       "  </tbody>\n",
       "</table>\n",
       "<p>96 rows × 7 columns</p>\n",
       "</div>"
      ],
      "text/plain": [
       "        wealth  percent_consumption  consumption  consumption_diff  \\\n",
       "age                                                                  \n",
       "20    1.329607             0.252609     0.333259          0.233259   \n",
       "21    1.692052             0.216581     0.360721          0.027495   \n",
       "22    2.090187             0.190711     0.391231          0.030790   \n",
       "23    2.507844             0.173287     0.425235          0.034866   \n",
       "24    2.920420             0.161999     0.461040          0.037744   \n",
       "..         ...                  ...          ...               ...   \n",
       "111  28.308510                  NaN     0.801909          0.011196   \n",
       "112  28.569757                  NaN     0.797340          0.011868   \n",
       "113  28.653690                  NaN     0.794091          0.011728   \n",
       "114  29.155207                  NaN     0.790744          0.011229   \n",
       "115  29.534343                  NaN     0.789802          0.011188   \n",
       "\n",
       "     equity_allocation  port_return     reward  \n",
       "age                                             \n",
       "20            0.903940     0.034256   0.333259  \n",
       "21            0.905640     0.050276   0.365050  \n",
       "22            0.916480     0.064319   0.400677  \n",
       "23            0.923709     0.061765   0.440728  \n",
       "24            0.926451     0.051330   0.483571  \n",
       "..                 ...          ...        ...  \n",
       "111           0.697256     0.036131 -16.828315  \n",
       "112           0.700250     0.046063 -17.625043  \n",
       "113           0.698999     0.039843 -17.811148  \n",
       "114           0.702929     0.060617 -18.200049  \n",
       "115           0.700722     0.055556 -18.581435  \n",
       "\n",
       "[96 rows x 7 columns]"
      ]
     },
     "execution_count": 8,
     "metadata": {},
     "output_type": "execute_result"
    }
   ],
   "source": [
    "grouped_info_df"
   ]
  }
 ],
 "metadata": {
  "kernelspec": {
   "display_name": "Python 3.9.7 ('base')",
   "language": "python",
   "name": "python3"
  },
  "language_info": {
   "codemirror_mode": {
    "name": "ipython",
    "version": 3
   },
   "file_extension": ".py",
   "mimetype": "text/x-python",
   "name": "python",
   "nbconvert_exporter": "python",
   "pygments_lexer": "ipython3",
   "version": "3.9.7"
  },
  "orig_nbformat": 4,
  "vscode": {
   "interpreter": {
    "hash": "e09c12f18a2be602246ce7147d4f07d1d3f1fa24fa5d378fb578b8174ce72dfc"
   }
  }
 },
 "nbformat": 4,
 "nbformat_minor": 2
}
